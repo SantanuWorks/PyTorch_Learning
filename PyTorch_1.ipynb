{
  "nbformat": 4,
  "nbformat_minor": 0,
  "metadata": {
    "colab": {
      "provenance": [],
      "authorship_tag": "ABX9TyOFXbXS6LcbZc7zKx+opkRa",
      "include_colab_link": true
    },
    "kernelspec": {
      "name": "python3",
      "display_name": "Python 3"
    },
    "language_info": {
      "name": "python"
    }
  },
  "cells": [
    {
      "cell_type": "markdown",
      "metadata": {
        "id": "view-in-github",
        "colab_type": "text"
      },
      "source": [
        "<a href=\"https://colab.research.google.com/github/SantanuWorks/PyTorch_Learning/blob/main/PyTorch_1.ipynb\" target=\"_parent\"><img src=\"https://colab.research.google.com/assets/colab-badge.svg\" alt=\"Open In Colab\"/></a>"
      ]
    },
    {
      "cell_type": "markdown",
      "source": [
        "Basic Libraries:"
      ],
      "metadata": {
        "id": "bYcUZw6cWlsK"
      }
    },
    {
      "cell_type": "code",
      "execution_count": 1,
      "metadata": {
        "colab": {
          "base_uri": "https://localhost:8080/"
        },
        "id": "BkD7SFFrVYGR",
        "outputId": "5ff55da3-d33e-4b79-83fa-b7b2fc8a1fbf"
      },
      "outputs": [
        {
          "output_type": "stream",
          "name": "stdout",
          "text": [
            "2.1.0+cu118\n"
          ]
        }
      ],
      "source": [
        "import torch\n",
        "import pandas as pd\n",
        "import numpy as np\n",
        "import matplotlib as plt\n",
        "print(torch.__version__)"
      ]
    },
    {
      "cell_type": "markdown",
      "source": [
        "Tensors: Represents multi-dimensional set of numbers"
      ],
      "metadata": {
        "id": "8xF88hl-WtEU"
      }
    },
    {
      "cell_type": "code",
      "source": [
        "## Creating Tensors - using torch.Tensor()\n",
        "# scalar\n",
        "\n",
        "scalar = torch.tensor(7)\n",
        "scalar"
      ],
      "metadata": {
        "colab": {
          "base_uri": "https://localhost:8080/"
        },
        "id": "L2FdfOgGWj4C",
        "outputId": "479cbfd5-0c72-4586-81bb-dbc488d0014e"
      },
      "execution_count": 2,
      "outputs": [
        {
          "output_type": "execute_result",
          "data": {
            "text/plain": [
              "tensor(7)"
            ]
          },
          "metadata": {},
          "execution_count": 2
        }
      ]
    },
    {
      "cell_type": "code",
      "source": [
        "# dimensions of scalar\n",
        "\n",
        "scalar.ndim"
      ],
      "metadata": {
        "colab": {
          "base_uri": "https://localhost:8080/"
        },
        "id": "T_q4tMEfXugS",
        "outputId": "eae643dc-0928-4a07-f865-c7426acaef62"
      },
      "execution_count": 3,
      "outputs": [
        {
          "output_type": "execute_result",
          "data": {
            "text/plain": [
              "0"
            ]
          },
          "metadata": {},
          "execution_count": 3
        }
      ]
    },
    {
      "cell_type": "code",
      "source": [
        "# get tensor value as int\n",
        "\n",
        "scalar.item()"
      ],
      "metadata": {
        "colab": {
          "base_uri": "https://localhost:8080/"
        },
        "id": "VmlRCRHtX3BV",
        "outputId": "5828d9e6-0c88-4cb0-cb1c-00a371875377"
      },
      "execution_count": 4,
      "outputs": [
        {
          "output_type": "execute_result",
          "data": {
            "text/plain": [
              "7"
            ]
          },
          "metadata": {},
          "execution_count": 4
        }
      ]
    },
    {
      "cell_type": "code",
      "source": [
        "# Vector\n",
        "\n",
        "vector = torch.tensor( [7, 7 ] )\n",
        "print(vector)\n",
        "print(vector.ndim)\n",
        "print(vector.shape)"
      ],
      "metadata": {
        "colab": {
          "base_uri": "https://localhost:8080/"
        },
        "id": "cbiaj6WcX-Pj",
        "outputId": "fb54896e-5b08-4e62-b1f0-e265ef62fa24"
      },
      "execution_count": 5,
      "outputs": [
        {
          "output_type": "stream",
          "name": "stdout",
          "text": [
            "tensor([7, 7])\n",
            "1\n",
            "torch.Size([2])\n"
          ]
        }
      ]
    },
    {
      "cell_type": "code",
      "source": [
        "# Create a matrix\n",
        "\n",
        "mat = torch.tensor(\n",
        "    [ [1, 2],\n",
        "    [3, 4] ]\n",
        ")\n",
        "\n",
        "print(mat)\n",
        "print(mat.ndim)\n",
        "print(mat.shape)"
      ],
      "metadata": {
        "colab": {
          "base_uri": "https://localhost:8080/"
        },
        "id": "RGbvno6UYtsN",
        "outputId": "4e1defd4-a000-416b-b4ff-7e47cebd21e4"
      },
      "execution_count": 6,
      "outputs": [
        {
          "output_type": "stream",
          "name": "stdout",
          "text": [
            "tensor([[1, 2],\n",
            "        [3, 4]])\n",
            "2\n",
            "torch.Size([2, 2])\n"
          ]
        }
      ]
    },
    {
      "cell_type": "code",
      "source": [
        "# creating a tensor\n",
        "\n",
        "ten = torch.tensor(\n",
        "    [ [ [1, 2],\n",
        "    [3, 4] ],\n",
        "      [ [5, 6],\n",
        "    [7, 8] ]\n",
        "    ]\n",
        ")\n",
        "\n",
        "print(ten)\n",
        "print(ten.ndim)\n",
        "print(ten.shape)\n",
        "\n",
        "print(\"Value at 0: \", ten[0])\n",
        "print(\"Value at 1: \", ten[1])"
      ],
      "metadata": {
        "colab": {
          "base_uri": "https://localhost:8080/"
        },
        "id": "G3GvF7hwZJ4S",
        "outputId": "ef3a175c-4b68-4de8-c4a6-ce5f58fd39b6"
      },
      "execution_count": 7,
      "outputs": [
        {
          "output_type": "stream",
          "name": "stdout",
          "text": [
            "tensor([[[1, 2],\n",
            "         [3, 4]],\n",
            "\n",
            "        [[5, 6],\n",
            "         [7, 8]]])\n",
            "3\n",
            "torch.Size([2, 2, 2])\n",
            "Value at 0:  tensor([[1, 2],\n",
            "        [3, 4]])\n",
            "Value at 1:  tensor([[5, 6],\n",
            "        [7, 8]])\n"
          ]
        }
      ]
    },
    {
      "cell_type": "code",
      "source": [
        "# Random Tensors - important for neural network to represent data\n",
        "\n",
        "# random tensor of size 3x4\n",
        "\n",
        "random_tensor = torch.rand(3, 3, 3)\n",
        "print(random_tensor)\n",
        "print(random_tensor.ndim)\n",
        "print(random_tensor.shape)"
      ],
      "metadata": {
        "colab": {
          "base_uri": "https://localhost:8080/"
        },
        "id": "61JqoTjQFlpa",
        "outputId": "4d7323ec-5496-4d42-f74f-1ddc20c717a5"
      },
      "execution_count": 8,
      "outputs": [
        {
          "output_type": "stream",
          "name": "stdout",
          "text": [
            "tensor([[[0.5410, 0.7020, 0.9414],\n",
            "         [0.5715, 0.3567, 0.6725],\n",
            "         [0.2212, 0.3712, 0.7699]],\n",
            "\n",
            "        [[0.7558, 0.5573, 0.5459],\n",
            "         [0.6574, 0.1807, 0.5245],\n",
            "         [0.4754, 0.4191, 0.4835]],\n",
            "\n",
            "        [[0.9495, 0.9308, 0.6649],\n",
            "         [0.3440, 0.2109, 0.7870],\n",
            "         [0.7921, 0.2304, 0.9206]]])\n",
            "3\n",
            "torch.Size([3, 3, 3])\n"
          ]
        }
      ]
    },
    {
      "cell_type": "code",
      "source": [
        "# tensor for image\n",
        "\n",
        "image_tensor = torch.rand( size = (38, 38, 2) ) # height, width = 38, two color\n",
        "image_tensor.shape, image_tensor.ndim"
      ],
      "metadata": {
        "colab": {
          "base_uri": "https://localhost:8080/"
        },
        "id": "2VhrWwRuHHqo",
        "outputId": "11a4c9bc-4cb2-4aee-80b4-dd48e7dbcc2c"
      },
      "execution_count": 9,
      "outputs": [
        {
          "output_type": "execute_result",
          "data": {
            "text/plain": [
              "(torch.Size([38, 38, 2]), 3)"
            ]
          },
          "metadata": {},
          "execution_count": 9
        }
      ]
    },
    {
      "cell_type": "code",
      "source": [
        "# all zero or ones tensor\n",
        "\n",
        "zero_tensor  = torch.zeros( size=(2, 2) )\n",
        "one_tensor  = torch.ones( size=(2, 2) )\n",
        "\n",
        "zero_tensor, one_tensor, zero_tensor+one_tensor\n",
        "\n",
        "# data type of tenor\n",
        "zero_tensor.dtype"
      ],
      "metadata": {
        "colab": {
          "base_uri": "https://localhost:8080/"
        },
        "id": "DG69E1KQHz-7",
        "outputId": "5e1acedd-7dcc-4dd3-a40c-bf0a29edf5ba"
      },
      "execution_count": 10,
      "outputs": [
        {
          "output_type": "execute_result",
          "data": {
            "text/plain": [
              "torch.float32"
            ]
          },
          "metadata": {},
          "execution_count": 10
        }
      ]
    },
    {
      "cell_type": "code",
      "source": [
        "# create tensor range\n",
        "\n",
        "ran = torch.arange(-1, 3)\n",
        "print(ran)\n",
        "\n",
        "ran = torch.arange(start = -1, end = 1, step = 0.2)\n",
        "print(ran)"
      ],
      "metadata": {
        "colab": {
          "base_uri": "https://localhost:8080/"
        },
        "id": "bpNbT44xJBZK",
        "outputId": "4364f9a2-0547-42fc-8dc7-1077cf5ec9d5"
      },
      "execution_count": 11,
      "outputs": [
        {
          "output_type": "stream",
          "name": "stdout",
          "text": [
            "tensor([-1,  0,  1,  2])\n",
            "tensor([-1.0000e+00, -8.0000e-01, -6.0000e-01, -4.0000e-01, -2.0000e-01,\n",
            "         5.5511e-17,  2.0000e-01,  4.0000e-01,  6.0000e-01,  8.0000e-01])\n"
          ]
        }
      ]
    },
    {
      "cell_type": "code",
      "source": [
        "# create tensors like - replicate a tensor without define size - copy tensor design\n",
        "\n",
        "cop = torch.ones_like( input=ran )\n",
        "cop"
      ],
      "metadata": {
        "colab": {
          "base_uri": "https://localhost:8080/"
        },
        "id": "EsMO9CEMJ_vK",
        "outputId": "342e30a5-5615-4fac-be48-a636cd49629e"
      },
      "execution_count": 12,
      "outputs": [
        {
          "output_type": "execute_result",
          "data": {
            "text/plain": [
              "tensor([1., 1., 1., 1., 1., 1., 1., 1., 1., 1.])"
            ]
          },
          "metadata": {},
          "execution_count": 12
        }
      ]
    },
    {
      "cell_type": "code",
      "source": [
        "# tensor datatypes\n",
        "\n",
        "# main errors\n",
        "# not right datatype\n",
        "# not right device\n",
        "# not right shape\n",
        "\n",
        "float_32_tensor = torch.tensor( [2.3, 1.0, 5.3], dtype = None, device = None, requires_grad = False )\n",
        "float_32_tensor"
      ],
      "metadata": {
        "colab": {
          "base_uri": "https://localhost:8080/"
        },
        "id": "7lsWuwPnKpt6",
        "outputId": "6351ea87-57a9-44bc-946b-aafb1dbb9f1e"
      },
      "execution_count": 13,
      "outputs": [
        {
          "output_type": "execute_result",
          "data": {
            "text/plain": [
              "tensor([2.3000, 1.0000, 5.3000])"
            ]
          },
          "metadata": {},
          "execution_count": 13
        }
      ]
    },
    {
      "cell_type": "code",
      "source": [
        "# tensor datatypes\n",
        "# float 32 sensor\n",
        "\n",
        "float_16_tensor = float_32_tensor.type(torch.float16)\n",
        "float_16_tensor, float_16_tensor.device"
      ],
      "metadata": {
        "colab": {
          "base_uri": "https://localhost:8080/"
        },
        "id": "4bbh_8BcMJXI",
        "outputId": "e8259a57-e7ea-4e69-f811-a86a5fd7831f"
      },
      "execution_count": 14,
      "outputs": [
        {
          "output_type": "execute_result",
          "data": {
            "text/plain": [
              "(tensor([2.3008, 1.0000, 5.3008], dtype=torch.float16), device(type='cpu'))"
            ]
          },
          "metadata": {},
          "execution_count": 14
        }
      ]
    },
    {
      "cell_type": "code",
      "source": [
        "# manipulating tensor\n",
        "# operation with a scalar\n",
        "\n",
        "some_tensor = torch.tensor([3, 4, 1])\n",
        "some_tensor\n",
        "\n",
        "# sum\n",
        "some_tensor + 12\n",
        "\n",
        "# mul\n",
        "some_tensor * 10\n",
        "\n",
        "# div\n",
        "some_tensor / 3\n",
        "\n",
        "# sub\n",
        "some_tensor - 10\n",
        "\n",
        "# matrix operations\n",
        "m1 = torch.tensor( [\n",
        "    [1, 3],\n",
        "    [2, 4]\n",
        "] )\n",
        "\n",
        "m2 = torch.tensor( [\n",
        "    [0, 1],\n",
        "    [0, 1]\n",
        "] )\n",
        "\n",
        "# matrix sum\n",
        "m1 + m2\n",
        "\n",
        "# matrix sub\n",
        "m1 - m2\n",
        "\n",
        "# matrix div\n",
        "m1 / m2"
      ],
      "metadata": {
        "colab": {
          "base_uri": "https://localhost:8080/"
        },
        "id": "ukl1fr8-NOoW",
        "outputId": "6222c46f-9289-4192-a3b6-daf9b6513144"
      },
      "execution_count": 15,
      "outputs": [
        {
          "output_type": "execute_result",
          "data": {
            "text/plain": [
              "tensor([[inf, 3.],\n",
              "        [inf, 4.]])"
            ]
          },
          "metadata": {},
          "execution_count": 15
        }
      ]
    },
    {
      "cell_type": "code",
      "source": [
        "# multiplication\n",
        "# 1. element wise\n",
        "# 2. dot product\n",
        "\n",
        "# matrix mul - element wise\n",
        "m1 * m2\n",
        "torch.mul(m1, m2)\n",
        "\n",
        "# matrix mul - dot product\n",
        "torch.matmul(m1, m2)"
      ],
      "metadata": {
        "colab": {
          "base_uri": "https://localhost:8080/"
        },
        "id": "92mr-O91qoIj",
        "outputId": "0bdd6399-1568-4b39-a521-674749ef934f"
      },
      "execution_count": 16,
      "outputs": [
        {
          "output_type": "execute_result",
          "data": {
            "text/plain": [
              "tensor([[0, 4],\n",
              "        [0, 6]])"
            ]
          },
          "metadata": {},
          "execution_count": 16
        }
      ]
    },
    {
      "cell_type": "code",
      "source": [
        "%%time\n",
        "torch.matmul(m1, m2)"
      ],
      "metadata": {
        "colab": {
          "base_uri": "https://localhost:8080/"
        },
        "id": "R5uuNP5NsIzH",
        "outputId": "3c1cf0eb-3e30-491b-ff16-d499440678d5"
      },
      "execution_count": 17,
      "outputs": [
        {
          "output_type": "stream",
          "name": "stdout",
          "text": [
            "CPU times: user 72 µs, sys: 13 µs, total: 85 µs\n",
            "Wall time: 90.4 µs\n"
          ]
        },
        {
          "output_type": "execute_result",
          "data": {
            "text/plain": [
              "tensor([[0, 4],\n",
              "        [0, 6]])"
            ]
          },
          "metadata": {},
          "execution_count": 17
        }
      ]
    },
    {
      "cell_type": "markdown",
      "source": [
        "two rules for performing matrix multiplicaion\n",
        "\n",
        "1. inner dimensions must match\n",
        "\n",
        "   M1(3 X 4) and M2(4, 4) will work - inner 4 and 4 are matching\n",
        "   \n",
        "   M1(3 X 4) and M2(3, 4) will not work - shape error\n",
        "\n",
        "2. output matrix will have the shape of outer dimensions\n",
        "\n",
        "   M1(3 X 4) * M2(4, 4) = M3(3 X 4)\n",
        "\n",
        "   M1(5 X 3) * M2(3, 2) = M3(5 X 2)"
      ],
      "metadata": {
        "id": "5thTV1Q1dlSD"
      }
    },
    {
      "cell_type": "code",
      "source": [
        "M1 = torch.rand(size=(3, 5))\n",
        "M2 = torch.rand(size=(5,3))\n",
        "M3 = torch.rand(size=(3, 4))"
      ],
      "metadata": {
        "id": "mcZ4Yye_buvI"
      },
      "execution_count": 18,
      "outputs": []
    },
    {
      "cell_type": "code",
      "source": [
        "print(M1)\n",
        "print(M2)\n",
        "\n",
        "# will work\n",
        "print(torch.matmul(M1, M2))\n",
        "\n",
        "# Will not work\n",
        "# print(torch.matmul(M1, M3))"
      ],
      "metadata": {
        "colab": {
          "base_uri": "https://localhost:8080/"
        },
        "id": "16ggM7TJdder",
        "outputId": "1f075fc3-9f45-43d2-800a-09c748ca6dcf"
      },
      "execution_count": 19,
      "outputs": [
        {
          "output_type": "stream",
          "name": "stdout",
          "text": [
            "tensor([[0.4939, 0.5725, 0.8804, 0.9048, 0.2025],\n",
            "        [0.0081, 0.8499, 0.5434, 0.0697, 0.1002],\n",
            "        [0.2598, 0.8772, 0.1539, 0.2470, 0.1539]])\n",
            "tensor([[0.1303, 0.8016, 0.0409],\n",
            "        [0.4022, 0.3341, 0.8584],\n",
            "        [0.3259, 0.4398, 0.2277],\n",
            "        [0.0573, 0.5106, 0.5314],\n",
            "        [0.8057, 0.8512, 0.2808]])\n",
            "tensor([[0.7966, 1.6088, 1.2498],\n",
            "        [0.6047, 0.6503, 0.9188],\n",
            "        [0.5750, 0.8261, 0.9732]])\n"
          ]
        }
      ]
    },
    {
      "cell_type": "code",
      "source": [
        "# 4 X 3\n",
        "tensor_a = torch.tensor(\n",
        "    [\n",
        "        [1, 2, 3],\n",
        "        [2, 3, 4],\n",
        "        [3, 4, 5],\n",
        "        [4, 5, 6]\n",
        "    ]\n",
        ")\n",
        "\n",
        "# 3 X 2\n",
        "tensor_b = torch.tensor(\n",
        "    [\n",
        "        [1, 2],\n",
        "        [2, 3],\n",
        "        [3, 4]\n",
        "    ]\n",
        ")\n",
        "\n",
        "# output: 4 X 2\n",
        "torch.matmul(tensor_a, tensor_b)"
      ],
      "metadata": {
        "colab": {
          "base_uri": "https://localhost:8080/"
        },
        "id": "BxcoFOHPfK9o",
        "outputId": "09ab1f69-bd9a-4dd9-82d6-acdf2a098e53"
      },
      "execution_count": 20,
      "outputs": [
        {
          "output_type": "execute_result",
          "data": {
            "text/plain": [
              "tensor([[14, 20],\n",
              "        [20, 29],\n",
              "        [26, 38],\n",
              "        [32, 47]])"
            ]
          },
          "metadata": {},
          "execution_count": 20
        }
      ]
    },
    {
      "cell_type": "markdown",
      "source": [
        "Transpose of a matrix/tensor is the process of swapping its dimensions\n",
        "\n",
        "e.g. `transpose of M(3 X 4) will be MT(4 X 3)`"
      ],
      "metadata": {
        "id": "RwJ8K68bf8zw"
      }
    },
    {
      "cell_type": "code",
      "source": [
        "tensor_a = torch.tensor(\n",
        "    [\n",
        "        [1, 2, 3],\n",
        "        [2, 3, 4]\n",
        "    ]\n",
        ")\n",
        "print(tensor_a)\n",
        "print(tensor_a.shape)\n",
        "\n",
        "print()\n",
        "\n",
        "tensor_a_transpose = tensor_a.T\n",
        "print(tensor_a_transpose)\n",
        "print(tensor_a_transpose.shape)"
      ],
      "metadata": {
        "colab": {
          "base_uri": "https://localhost:8080/"
        },
        "id": "pMhJR6KNgUZW",
        "outputId": "3e44c05c-d08d-442f-98b6-560340b44517"
      },
      "execution_count": 21,
      "outputs": [
        {
          "output_type": "stream",
          "name": "stdout",
          "text": [
            "tensor([[1, 2, 3],\n",
            "        [2, 3, 4]])\n",
            "torch.Size([2, 3])\n",
            "\n",
            "tensor([[1, 2],\n",
            "        [2, 3],\n",
            "        [3, 4]])\n",
            "torch.Size([3, 2])\n"
          ]
        }
      ]
    },
    {
      "cell_type": "markdown",
      "source": [
        "Tensor aggregation: Find max, min, mean, etc"
      ],
      "metadata": {
        "id": "LJy4btqkhub5"
      }
    },
    {
      "cell_type": "code",
      "source": [
        "ta = torch.arange(1, 4)"
      ],
      "metadata": {
        "id": "5irSGJ5oh1YH"
      },
      "execution_count": 22,
      "outputs": []
    },
    {
      "cell_type": "code",
      "source": [
        "# Find the max value\n",
        "\n",
        "print(ta)\n",
        "ta.max(), torch.max(ta)"
      ],
      "metadata": {
        "colab": {
          "base_uri": "https://localhost:8080/"
        },
        "id": "IO-Uzrf2iNbQ",
        "outputId": "daecfacb-0d57-437d-da29-a8412dc715dc"
      },
      "execution_count": 23,
      "outputs": [
        {
          "output_type": "stream",
          "name": "stdout",
          "text": [
            "tensor([1, 2, 3])\n"
          ]
        },
        {
          "output_type": "execute_result",
          "data": {
            "text/plain": [
              "(tensor(3), tensor(3))"
            ]
          },
          "metadata": {},
          "execution_count": 23
        }
      ]
    },
    {
      "cell_type": "code",
      "source": [
        "# Find the min value\n",
        "\n",
        "print(ta)\n",
        "ta.min(), torch.min(ta)"
      ],
      "metadata": {
        "colab": {
          "base_uri": "https://localhost:8080/"
        },
        "id": "JFTY6ccVi814",
        "outputId": "716366a9-50b7-4fc5-8c12-1e5b48699749"
      },
      "execution_count": 24,
      "outputs": [
        {
          "output_type": "stream",
          "name": "stdout",
          "text": [
            "tensor([1, 2, 3])\n"
          ]
        },
        {
          "output_type": "execute_result",
          "data": {
            "text/plain": [
              "(tensor(1), tensor(1))"
            ]
          },
          "metadata": {},
          "execution_count": 24
        }
      ]
    },
    {
      "cell_type": "code",
      "source": [
        "# Find the mean value\n",
        "\n",
        "print(ta)\n",
        "ta.type(torch.float32).mean(), torch.mean(ta.type(torch.float32))"
      ],
      "metadata": {
        "colab": {
          "base_uri": "https://localhost:8080/"
        },
        "id": "euPTInfnjRQQ",
        "outputId": "662b028a-d5e7-42ef-bc29-4c9db455316d"
      },
      "execution_count": 25,
      "outputs": [
        {
          "output_type": "stream",
          "name": "stdout",
          "text": [
            "tensor([1, 2, 3])\n"
          ]
        },
        {
          "output_type": "execute_result",
          "data": {
            "text/plain": [
              "(tensor(2.), tensor(2.))"
            ]
          },
          "metadata": {},
          "execution_count": 25
        }
      ]
    },
    {
      "cell_type": "code",
      "source": [
        "# Find the sum value\n",
        "\n",
        "print(ta)\n",
        "ta.sum(), torch.sum(ta)"
      ],
      "metadata": {
        "colab": {
          "base_uri": "https://localhost:8080/"
        },
        "id": "IGMQs_5-k0nJ",
        "outputId": "993a3ad7-19b5-4b4a-c945-a1a07f614f26"
      },
      "execution_count": 26,
      "outputs": [
        {
          "output_type": "stream",
          "name": "stdout",
          "text": [
            "tensor([1, 2, 3])\n"
          ]
        },
        {
          "output_type": "execute_result",
          "data": {
            "text/plain": [
              "(tensor(6), tensor(6))"
            ]
          },
          "metadata": {},
          "execution_count": 26
        }
      ]
    },
    {
      "cell_type": "code",
      "source": [
        "# find positional max and min\n",
        "\n",
        "# find the position in tensor that has min or max value using argmin() or argmax\n",
        "\n",
        "tb = torch.tensor([2, 4, -2, 2, 6, 0, 3])\n",
        "print(tb)\n",
        "\n",
        "tb.argmin(), tb.argmax()\n",
        "torch.argmin(tb), torch.argmax(tb)"
      ],
      "metadata": {
        "colab": {
          "base_uri": "https://localhost:8080/"
        },
        "id": "yiiNKLPNlI7P",
        "outputId": "02f24292-a597-4a9b-dece-e03e3430bf39"
      },
      "execution_count": 27,
      "outputs": [
        {
          "output_type": "stream",
          "name": "stdout",
          "text": [
            "tensor([ 2,  4, -2,  2,  6,  0,  3])\n"
          ]
        },
        {
          "output_type": "execute_result",
          "data": {
            "text/plain": [
              "(tensor(2), tensor(4))"
            ]
          },
          "metadata": {},
          "execution_count": 27
        }
      ]
    },
    {
      "cell_type": "markdown",
      "source": [
        "## Reshaping, Stacking, Squeezing, Unsqueezing tensors\n",
        "\n",
        "- Reshaping: reshapes an tensor a defined shape\n",
        "\n",
        "- View: return a view of an input tensor of certain shape but keep the same memory as the orignal tensor\n",
        "\n",
        "- Stacking: combine multiple tensors on the top of each other ( vstack - vertical stacking ) or side by side ( hstack - horizontal stacking )\n",
        "\n",
        "- Squeeze: removes all one dimensions from a tensor\n",
        "\n",
        "- Unsqueeze: add one dimension to a target tensor\n",
        "\n",
        "- Permute: return a view of the input with dimensions permuted(swapped) in a certain way"
      ],
      "metadata": {
        "id": "VG0lyHS9mWDA"
      }
    },
    {
      "cell_type": "code",
      "source": [
        "import torch"
      ],
      "metadata": {
        "id": "G9GtD8CunnA4"
      },
      "execution_count": 28,
      "outputs": []
    },
    {
      "cell_type": "code",
      "source": [
        "x = torch.arange(0, 6, 1)\n",
        "print(x)\n",
        "x, x.shape"
      ],
      "metadata": {
        "colab": {
          "base_uri": "https://localhost:8080/"
        },
        "id": "4k-VRB5Ln2L7",
        "outputId": "b76d213b-58d7-481e-d6d4-1deb3c3bd80b"
      },
      "execution_count": 29,
      "outputs": [
        {
          "output_type": "stream",
          "name": "stdout",
          "text": [
            "tensor([0, 1, 2, 3, 4, 5])\n"
          ]
        },
        {
          "output_type": "execute_result",
          "data": {
            "text/plain": [
              "(tensor([0, 1, 2, 3, 4, 5]), torch.Size([6]))"
            ]
          },
          "metadata": {},
          "execution_count": 29
        }
      ]
    },
    {
      "cell_type": "code",
      "source": [
        "# change shape\n",
        "\n",
        "x_reshape = x.reshape(3, 2)\n",
        "x_reshape, x_reshape.shape"
      ],
      "metadata": {
        "colab": {
          "base_uri": "https://localhost:8080/"
        },
        "id": "6HNr2yBYoVyu",
        "outputId": "75e0b6a0-7a50-4993-d09f-056c3711933f"
      },
      "execution_count": 30,
      "outputs": [
        {
          "output_type": "execute_result",
          "data": {
            "text/plain": [
              "(tensor([[0, 1],\n",
              "         [2, 3],\n",
              "         [4, 5]]),\n",
              " torch.Size([3, 2]))"
            ]
          },
          "metadata": {},
          "execution_count": 30
        }
      ]
    },
    {
      "cell_type": "code",
      "source": [
        "# change shape\n",
        "\n",
        "x_reshape = x.reshape(6, 1)\n",
        "x_reshape, x_reshape.shape"
      ],
      "metadata": {
        "colab": {
          "base_uri": "https://localhost:8080/"
        },
        "id": "Tyd7a9oyojMi",
        "outputId": "a9200e00-de17-4a52-edfc-cf4a6420046b"
      },
      "execution_count": 31,
      "outputs": [
        {
          "output_type": "execute_result",
          "data": {
            "text/plain": [
              "(tensor([[0],\n",
              "         [1],\n",
              "         [2],\n",
              "         [3],\n",
              "         [4],\n",
              "         [5]]),\n",
              " torch.Size([6, 1]))"
            ]
          },
          "metadata": {},
          "execution_count": 31
        }
      ]
    },
    {
      "cell_type": "code",
      "source": [
        "# change view\n",
        "\n",
        "x_new_view = x.view(2, 3)\n",
        "x, x.shape, x_new_view, x_new_view.shape"
      ],
      "metadata": {
        "colab": {
          "base_uri": "https://localhost:8080/"
        },
        "id": "OlIEghNmop8a",
        "outputId": "a84e03a2-8958-43c9-b30f-7c0c07a7827a"
      },
      "execution_count": 32,
      "outputs": [
        {
          "output_type": "execute_result",
          "data": {
            "text/plain": [
              "(tensor([0, 1, 2, 3, 4, 5]),\n",
              " torch.Size([6]),\n",
              " tensor([[0, 1, 2],\n",
              "         [3, 4, 5]]),\n",
              " torch.Size([2, 3]))"
            ]
          },
          "metadata": {},
          "execution_count": 32
        }
      ]
    },
    {
      "cell_type": "code",
      "source": [
        "# changing generated view reflects on base view ( as they share same memory )\n",
        "x_new_view[0][1] = -11\n",
        "x, x_new_view"
      ],
      "metadata": {
        "colab": {
          "base_uri": "https://localhost:8080/"
        },
        "id": "QlkGKwJhp9y3",
        "outputId": "75b2515a-110a-4772-ef01-29929a26d148"
      },
      "execution_count": 33,
      "outputs": [
        {
          "output_type": "execute_result",
          "data": {
            "text/plain": [
              "(tensor([  0, -11,   2,   3,   4,   5]),\n",
              " tensor([[  0, -11,   2],\n",
              "         [  3,   4,   5]]))"
            ]
          },
          "metadata": {},
          "execution_count": 33
        }
      ]
    },
    {
      "cell_type": "code",
      "source": [
        "# stack tensors\n",
        "\n",
        "x_stacked = torch.stack([x, x], dim=1)\n",
        "x, x_stacked"
      ],
      "metadata": {
        "colab": {
          "base_uri": "https://localhost:8080/"
        },
        "id": "zH3r_eM1qhKn",
        "outputId": "1c3d4e7d-c027-47e1-8f4f-0692c5b05945"
      },
      "execution_count": 34,
      "outputs": [
        {
          "output_type": "execute_result",
          "data": {
            "text/plain": [
              "(tensor([  0, -11,   2,   3,   4,   5]),\n",
              " tensor([[  0,   0],\n",
              "         [-11, -11],\n",
              "         [  2,   2],\n",
              "         [  3,   3],\n",
              "         [  4,   4],\n",
              "         [  5,   5]]))"
            ]
          },
          "metadata": {},
          "execution_count": 34
        }
      ]
    },
    {
      "cell_type": "code",
      "source": [
        "# stack tensors\n",
        "\n",
        "x_stacked = torch.stack([x, x], dim=0)\n",
        "x, x_stacked"
      ],
      "metadata": {
        "colab": {
          "base_uri": "https://localhost:8080/"
        },
        "id": "TiEd_0GbrOzd",
        "outputId": "745cda95-89aa-4b59-c1c0-6ea3bb867b74"
      },
      "execution_count": 35,
      "outputs": [
        {
          "output_type": "execute_result",
          "data": {
            "text/plain": [
              "(tensor([  0, -11,   2,   3,   4,   5]),\n",
              " tensor([[  0, -11,   2,   3,   4,   5],\n",
              "         [  0, -11,   2,   3,   4,   5]]))"
            ]
          },
          "metadata": {},
          "execution_count": 35
        }
      ]
    },
    {
      "cell_type": "code",
      "source": [
        "# stack tensors\n",
        "\n",
        "x_stacked = torch.hstack([x, x])\n",
        "x, x_stacked"
      ],
      "metadata": {
        "colab": {
          "base_uri": "https://localhost:8080/"
        },
        "id": "pWUeQgwhrS4v",
        "outputId": "f8e7d85a-35db-4cd2-99dd-e7e4ff3baf44"
      },
      "execution_count": 36,
      "outputs": [
        {
          "output_type": "execute_result",
          "data": {
            "text/plain": [
              "(tensor([  0, -11,   2,   3,   4,   5]),\n",
              " tensor([  0, -11,   2,   3,   4,   5,   0, -11,   2,   3,   4,   5]))"
            ]
          },
          "metadata": {},
          "execution_count": 36
        }
      ]
    },
    {
      "cell_type": "code",
      "source": [
        "# stack tensors\n",
        "\n",
        "x_stacked = torch.vstack([x, x])\n",
        "x, x_stacked"
      ],
      "metadata": {
        "colab": {
          "base_uri": "https://localhost:8080/"
        },
        "id": "6lnPCzf7rd8O",
        "outputId": "174f2a0f-ec3c-4c05-d493-83947e4b9b7b"
      },
      "execution_count": 37,
      "outputs": [
        {
          "output_type": "execute_result",
          "data": {
            "text/plain": [
              "(tensor([  0, -11,   2,   3,   4,   5]),\n",
              " tensor([[  0, -11,   2,   3,   4,   5],\n",
              "         [  0, -11,   2,   3,   4,   5]]))"
            ]
          },
          "metadata": {},
          "execution_count": 37
        }
      ]
    },
    {
      "cell_type": "code",
      "source": [
        "a = torch.tensor(\n",
        "    [\n",
        "        [2, 4, 6],\n",
        "        [1, 2, 3]\n",
        "    ]\n",
        ")\n",
        "\n",
        "b = torch.tensor(\n",
        "    [\n",
        "        [0, 1, 3],\n",
        "        [3, 4, 5]\n",
        "    ]\n",
        ")\n",
        "\n",
        "a, b"
      ],
      "metadata": {
        "colab": {
          "base_uri": "https://localhost:8080/"
        },
        "id": "geuzOofbrgyW",
        "outputId": "758c7f00-bc25-49ea-e688-43dee0571c03"
      },
      "execution_count": 38,
      "outputs": [
        {
          "output_type": "execute_result",
          "data": {
            "text/plain": [
              "(tensor([[2, 4, 6],\n",
              "         [1, 2, 3]]),\n",
              " tensor([[0, 1, 3],\n",
              "         [3, 4, 5]]))"
            ]
          },
          "metadata": {},
          "execution_count": 38
        }
      ]
    },
    {
      "cell_type": "code",
      "source": [
        "# stack tensors\n",
        "\n",
        "stack_ab = None\n",
        "stack_ab = torch.stack([a, b], dim=0)\n",
        "stack_ab"
      ],
      "metadata": {
        "colab": {
          "base_uri": "https://localhost:8080/"
        },
        "id": "abygTkALsp_E",
        "outputId": "f4800273-fc13-4fdb-fdf6-b911dcf2f91c"
      },
      "execution_count": 39,
      "outputs": [
        {
          "output_type": "execute_result",
          "data": {
            "text/plain": [
              "tensor([[[2, 4, 6],\n",
              "         [1, 2, 3]],\n",
              "\n",
              "        [[0, 1, 3],\n",
              "         [3, 4, 5]]])"
            ]
          },
          "metadata": {},
          "execution_count": 39
        }
      ]
    },
    {
      "cell_type": "code",
      "source": [
        "# stack tensors\n",
        "\n",
        "stack_ab = torch.stack([a, b], dim=1)\n",
        "stack_ab"
      ],
      "metadata": {
        "colab": {
          "base_uri": "https://localhost:8080/"
        },
        "id": "hr6y60zZr279",
        "outputId": "58190667-ea9a-4722-e93f-f1dfed6211d4"
      },
      "execution_count": 40,
      "outputs": [
        {
          "output_type": "execute_result",
          "data": {
            "text/plain": [
              "tensor([[[2, 4, 6],\n",
              "         [0, 1, 3]],\n",
              "\n",
              "        [[1, 2, 3],\n",
              "         [3, 4, 5]]])"
            ]
          },
          "metadata": {},
          "execution_count": 40
        }
      ]
    },
    {
      "cell_type": "code",
      "source": [
        "# stack tensors\n",
        "\n",
        "stack_ab = None\n",
        "stack_ab = torch.stack([a, b], dim=2)\n",
        "stack_ab"
      ],
      "metadata": {
        "colab": {
          "base_uri": "https://localhost:8080/"
        },
        "id": "-ChOpdXtsNTq",
        "outputId": "bd09590d-9dc5-43ee-f98f-d6f7603c4276"
      },
      "execution_count": 41,
      "outputs": [
        {
          "output_type": "execute_result",
          "data": {
            "text/plain": [
              "tensor([[[2, 0],\n",
              "         [4, 1],\n",
              "         [6, 3]],\n",
              "\n",
              "        [[1, 3],\n",
              "         [2, 4],\n",
              "         [3, 5]]])"
            ]
          },
          "metadata": {},
          "execution_count": 41
        }
      ]
    },
    {
      "cell_type": "code",
      "source": [
        "# stack tensors\n",
        "\n",
        "stack_ab = torch.hstack([a, b])\n",
        "stack_ab"
      ],
      "metadata": {
        "colab": {
          "base_uri": "https://localhost:8080/"
        },
        "id": "PBnzCSZ1szlQ",
        "outputId": "38f2d90f-fdf8-43f9-b2d3-bd1d262612a8"
      },
      "execution_count": 42,
      "outputs": [
        {
          "output_type": "execute_result",
          "data": {
            "text/plain": [
              "tensor([[2, 4, 6, 0, 1, 3],\n",
              "        [1, 2, 3, 3, 4, 5]])"
            ]
          },
          "metadata": {},
          "execution_count": 42
        }
      ]
    },
    {
      "cell_type": "code",
      "source": [
        "# stack tensors\n",
        "\n",
        "stack_ab = torch.vstack([a, b])\n",
        "stack_ab"
      ],
      "metadata": {
        "colab": {
          "base_uri": "https://localhost:8080/"
        },
        "id": "6rXd27_ns4cw",
        "outputId": "8aaba20a-5198-4552-b9d0-8757ec624ad7"
      },
      "execution_count": 43,
      "outputs": [
        {
          "output_type": "execute_result",
          "data": {
            "text/plain": [
              "tensor([[2, 4, 6],\n",
              "        [1, 2, 3],\n",
              "        [0, 1, 3],\n",
              "        [3, 4, 5]])"
            ]
          },
          "metadata": {},
          "execution_count": 43
        }
      ]
    },
    {
      "cell_type": "code",
      "source": [
        "x = None\n",
        "x_reshaped = None\n",
        "\n",
        "x = torch.tensor([1, 2, 3, 4, 5, 6])\n",
        "x_reshaped = x.reshape(6, 1)\n",
        "x, x_reshaped"
      ],
      "metadata": {
        "colab": {
          "base_uri": "https://localhost:8080/"
        },
        "id": "1hQ77z9Ns631",
        "outputId": "856beae1-fb04-4ddd-f7bc-1f258c0f3962"
      },
      "execution_count": 44,
      "outputs": [
        {
          "output_type": "execute_result",
          "data": {
            "text/plain": [
              "(tensor([1, 2, 3, 4, 5, 6]),\n",
              " tensor([[1],\n",
              "         [2],\n",
              "         [3],\n",
              "         [4],\n",
              "         [5],\n",
              "         [6]]))"
            ]
          },
          "metadata": {},
          "execution_count": 44
        }
      ]
    },
    {
      "cell_type": "code",
      "source": [
        "# Squeeze - remove the one dimensions\n",
        "\n",
        "x_squeezed = x_reshaped.squeeze()\n",
        "x_squeezed, x_squeezed.shape"
      ],
      "metadata": {
        "colab": {
          "base_uri": "https://localhost:8080/"
        },
        "id": "ZTHtjDMTt-5H",
        "outputId": "3d62e086-0dc7-434f-aaf1-0d321a96f0d1"
      },
      "execution_count": 51,
      "outputs": [
        {
          "output_type": "execute_result",
          "data": {
            "text/plain": [
              "(tensor([1, 2, 3, 4, 5, 6]), torch.Size([6]))"
            ]
          },
          "metadata": {},
          "execution_count": 51
        }
      ]
    },
    {
      "cell_type": "code",
      "source": [
        "x_squeezed = x_reshaped.unsqueeze(dim=0)\n",
        "x_squeezed, x_squeezed.shape"
      ],
      "metadata": {
        "colab": {
          "base_uri": "https://localhost:8080/"
        },
        "id": "t8rZqWNmuUYG",
        "outputId": "4463cbde-9967-4eaa-8edf-f14d38e7bcc2"
      },
      "execution_count": 50,
      "outputs": [
        {
          "output_type": "execute_result",
          "data": {
            "text/plain": [
              "(tensor([[[1],\n",
              "          [2],\n",
              "          [3],\n",
              "          [4],\n",
              "          [5],\n",
              "          [6]]]),\n",
              " torch.Size([1, 6, 1]))"
            ]
          },
          "metadata": {},
          "execution_count": 50
        }
      ]
    },
    {
      "cell_type": "code",
      "source": [
        "# Tensor permute - returns view to a tensor with dimensions permuted\n",
        "\n",
        "og_image = torch.rand(size=(36, 36, 3)) # height, width, color channerls\n",
        "\n",
        "permuted_image = og_image.permute(2, 0, 1) # 0->2, 1->0, 2->1\n",
        "og_image.shape, permuted_image.shape"
      ],
      "metadata": {
        "colab": {
          "base_uri": "https://localhost:8080/"
        },
        "id": "VmDIxHH8MOxW",
        "outputId": "808105ee-a683-475d-d9fe-4873b84feb9f"
      },
      "execution_count": 54,
      "outputs": [
        {
          "output_type": "execute_result",
          "data": {
            "text/plain": [
              "(torch.Size([36, 36, 3]), torch.Size([3, 36, 36]))"
            ]
          },
          "metadata": {},
          "execution_count": 54
        }
      ]
    },
    {
      "cell_type": "markdown",
      "source": [
        "Indexing:\n",
        "\n",
        "Accessig elements using [] operator"
      ],
      "metadata": {
        "id": "Oa6ItBryNuPv"
      }
    },
    {
      "cell_type": "code",
      "source": [
        "x = torch.arange(1, 10).reshape(1, 3, 3)\n",
        "\n",
        "x"
      ],
      "metadata": {
        "colab": {
          "base_uri": "https://localhost:8080/"
        },
        "id": "vMH4t5WkNiwo",
        "outputId": "69bfea3f-fb7b-49a1-f5f3-fea3fef0b5de"
      },
      "execution_count": 55,
      "outputs": [
        {
          "output_type": "execute_result",
          "data": {
            "text/plain": [
              "tensor([[[1, 2, 3],\n",
              "         [4, 5, 6],\n",
              "         [7, 8, 9]]])"
            ]
          },
          "metadata": {},
          "execution_count": 55
        }
      ]
    },
    {
      "cell_type": "code",
      "source": [
        "x[0]"
      ],
      "metadata": {
        "colab": {
          "base_uri": "https://localhost:8080/"
        },
        "id": "FDIk4pB4OKty",
        "outputId": "e84b6877-6e28-4e6e-d1cf-453413c83914"
      },
      "execution_count": 56,
      "outputs": [
        {
          "output_type": "execute_result",
          "data": {
            "text/plain": [
              "tensor([[1, 2, 3],\n",
              "        [4, 5, 6],\n",
              "        [7, 8, 9]])"
            ]
          },
          "metadata": {},
          "execution_count": 56
        }
      ]
    },
    {
      "cell_type": "code",
      "source": [
        "x[0][0], x[0][1], x[0][2]"
      ],
      "metadata": {
        "colab": {
          "base_uri": "https://localhost:8080/"
        },
        "id": "St26IMOTOWvJ",
        "outputId": "6e8902ce-2591-45dc-f81e-ad611268988d"
      },
      "execution_count": 58,
      "outputs": [
        {
          "output_type": "execute_result",
          "data": {
            "text/plain": [
              "(tensor([1, 2, 3]), tensor([4, 5, 6]), tensor([7, 8, 9]))"
            ]
          },
          "metadata": {},
          "execution_count": 58
        }
      ]
    },
    {
      "cell_type": "code",
      "source": [
        "x[0][0][0], x[0][0][1], x[0][0][2]"
      ],
      "metadata": {
        "colab": {
          "base_uri": "https://localhost:8080/"
        },
        "id": "yIFW4TY8OfNV",
        "outputId": "f5282742-19e6-430e-c777-1d35e9016f08"
      },
      "execution_count": 59,
      "outputs": [
        {
          "output_type": "execute_result",
          "data": {
            "text/plain": [
              "(tensor(1), tensor(2), tensor(3))"
            ]
          },
          "metadata": {},
          "execution_count": 59
        }
      ]
    },
    {
      "cell_type": "code",
      "source": [
        "for i in range(0, 1):\n",
        "  for j in range(0, 3):\n",
        "    for k in range(0, 3):\n",
        "      print(int(x[i][j][k]), \" \", end='')\n",
        "    print()\n",
        "  print()"
      ],
      "metadata": {
        "colab": {
          "base_uri": "https://localhost:8080/"
        },
        "id": "CuMQX9gtOo0N",
        "outputId": "d18a0380-a443-4b05-aa83-d2aa56002953"
      },
      "execution_count": 62,
      "outputs": [
        {
          "output_type": "stream",
          "name": "stdout",
          "text": [
            "1  2  3  \n",
            "4  5  6  \n",
            "7  8  9  \n",
            "\n"
          ]
        }
      ]
    },
    {
      "cell_type": "code",
      "source": [
        "# slicing - indexing using colon(:)\n",
        "# : to select all elements in a dimension\n",
        "\n",
        "x[0, :], x[:, :, :]"
      ],
      "metadata": {
        "colab": {
          "base_uri": "https://localhost:8080/"
        },
        "id": "aeBV30CVPMzT",
        "outputId": "82e072e1-a21a-4f53-aa70-f1bc316dadd5"
      },
      "execution_count": 76,
      "outputs": [
        {
          "output_type": "execute_result",
          "data": {
            "text/plain": [
              "(tensor([[1, 2, 3],\n",
              "         [4, 5, 6],\n",
              "         [7, 8, 9]]),\n",
              " tensor([[[1, 2, 3],\n",
              "          [4, 5, 6],\n",
              "          [7, 8, 9]]]))"
            ]
          },
          "metadata": {},
          "execution_count": 76
        }
      ]
    },
    {
      "cell_type": "code",
      "source": [
        "x[0, 0, :], x[0, 1, :], x[0, 2, :]"
      ],
      "metadata": {
        "colab": {
          "base_uri": "https://localhost:8080/"
        },
        "id": "17wAWV8BPsSv",
        "outputId": "1340a399-a463-4715-c864-0afa161f2f4f"
      },
      "execution_count": 66,
      "outputs": [
        {
          "output_type": "execute_result",
          "data": {
            "text/plain": [
              "(tensor([1, 2, 3]), tensor([4, 5, 6]), tensor([7, 8, 9]))"
            ]
          },
          "metadata": {},
          "execution_count": 66
        }
      ]
    },
    {
      "cell_type": "code",
      "source": [
        "x[0, :, 0], x[0, :, 1], x[0, :, 2]"
      ],
      "metadata": {
        "colab": {
          "base_uri": "https://localhost:8080/"
        },
        "id": "FkKhtyCqP2Im",
        "outputId": "c6ea9d14-eea3-4c31-e141-85303b1aee31"
      },
      "execution_count": 70,
      "outputs": [
        {
          "output_type": "execute_result",
          "data": {
            "text/plain": [
              "(tensor([1, 4, 7]), tensor([2, 5, 8]), tensor([3, 6, 9]))"
            ]
          },
          "metadata": {},
          "execution_count": 70
        }
      ]
    },
    {
      "cell_type": "code",
      "source": [
        "x[:, :, 0], x[:, :, 1], x[:, :, 2]"
      ],
      "metadata": {
        "colab": {
          "base_uri": "https://localhost:8080/"
        },
        "id": "iCYz1M2HQjYe",
        "outputId": "6adab92e-3a50-40d9-e9f7-8d8a9529eb00"
      },
      "execution_count": 75,
      "outputs": [
        {
          "output_type": "execute_result",
          "data": {
            "text/plain": [
              "(tensor([[1, 4, 7]]), tensor([[2, 5, 8]]), tensor([[3, 6, 9]]))"
            ]
          },
          "metadata": {},
          "execution_count": 75
        }
      ]
    },
    {
      "cell_type": "code",
      "source": [
        "for i in range(0, 3):\n",
        "  for j in range(0, 3):\n",
        "    print(int(x[:, i, j]), \" \", end='')\n",
        "  print()"
      ],
      "metadata": {
        "colab": {
          "base_uri": "https://localhost:8080/"
        },
        "id": "jtHly8_bQJpx",
        "outputId": "769593b5-c5a5-4adc-8b11-ec7f9a2cbafa"
      },
      "execution_count": 72,
      "outputs": [
        {
          "output_type": "stream",
          "name": "stdout",
          "text": [
            "1  2  3  \n",
            "4  5  6  \n",
            "7  8  9  \n"
          ]
        }
      ]
    },
    {
      "cell_type": "code",
      "source": [
        "# return 3, 4, and 9 from x\n",
        "\n",
        "int(x[:, 0, 2 ]), int(x[:, 1, 0 ]), int(x[:, 2, 2 ])"
      ],
      "metadata": {
        "colab": {
          "base_uri": "https://localhost:8080/"
        },
        "id": "x5h3UhQcQ5-O",
        "outputId": "552a98de-8096-45bf-dbde-b5d3c2998744"
      },
      "execution_count": 84,
      "outputs": [
        {
          "output_type": "execute_result",
          "data": {
            "text/plain": [
              "(3, 4, 9)"
            ]
          },
          "metadata": {},
          "execution_count": 84
        }
      ]
    },
    {
      "cell_type": "markdown",
      "source": [
        "###NumPy - Python Numerical Computing Library - Scientific\n",
        "\n",
        "Interact Pytorch with NumPy\n",
        "\n",
        "- NumPy data to PyTorch: `torch.from_numpy(ndarray)`\n",
        "\n",
        "- PyTorch data to numpy: `torch.Tensor.numpy()`\n",
        "\n",
        "- data type for pytorch data will same as numpy data, vice versa\n",
        "\n",
        "- memory is not shared like in views"
      ],
      "metadata": {
        "id": "JPwUnqtfR4tE"
      }
    },
    {
      "cell_type": "code",
      "source": [
        "# import numpy\n",
        "import numpy as np\n",
        "\n",
        "# numpy to tensor\n",
        "\n",
        "array = np.arange(1, 9, 2)\n",
        "tensor = torch.from_numpy(array)\n",
        "array, tensor, array.dtype, tensor.dtype,"
      ],
      "metadata": {
        "colab": {
          "base_uri": "https://localhost:8080/"
        },
        "id": "h_2_g1alR3wH",
        "outputId": "c62c6b88-af03-4909-c2fe-6536d940ce02"
      },
      "execution_count": 86,
      "outputs": [
        {
          "output_type": "execute_result",
          "data": {
            "text/plain": [
              "(array([1, 3, 5, 7]), tensor([1, 3, 5, 7]), dtype('int64'), torch.int64)"
            ]
          },
          "metadata": {},
          "execution_count": 86
        }
      ]
    },
    {
      "cell_type": "code",
      "source": [
        "array = array + 1\n",
        "array, tensor"
      ],
      "metadata": {
        "colab": {
          "base_uri": "https://localhost:8080/"
        },
        "id": "tUFSDamJT0C3",
        "outputId": "3bda5cba-d103-4b1a-9085-58817a806b87"
      },
      "execution_count": 88,
      "outputs": [
        {
          "output_type": "execute_result",
          "data": {
            "text/plain": [
              "(array([3, 5, 7, 9]), tensor([1, 3, 5, 7]))"
            ]
          },
          "metadata": {},
          "execution_count": 88
        }
      ]
    },
    {
      "cell_type": "code",
      "source": [
        "# tensor to numpy\n",
        "\n",
        "tensor = torch.tensor([2, 4, 6, 8])\n",
        "array = torch.Tensor.numpy(tensor)\n",
        "\n",
        "array, tensor, array.dtype, tensor.dtype,"
      ],
      "metadata": {
        "colab": {
          "base_uri": "https://localhost:8080/"
        },
        "id": "Q4ziXSzaUFzd",
        "outputId": "50f0c825-b24c-4adc-8f88-90b29c3d507b"
      },
      "execution_count": 89,
      "outputs": [
        {
          "output_type": "execute_result",
          "data": {
            "text/plain": [
              "(array([2, 4, 6, 8]), tensor([2, 4, 6, 8]), dtype('int64'), torch.int64)"
            ]
          },
          "metadata": {},
          "execution_count": 89
        }
      ]
    },
    {
      "cell_type": "code",
      "source": [
        "tensor = tensor + 1\n",
        "array, tensor"
      ],
      "metadata": {
        "colab": {
          "base_uri": "https://localhost:8080/"
        },
        "id": "T9d6qAapUzuh",
        "outputId": "9493809f-c739-4da9-f48c-8b86df546969"
      },
      "execution_count": 90,
      "outputs": [
        {
          "output_type": "execute_result",
          "data": {
            "text/plain": [
              "(array([2, 4, 6, 8]), tensor([3, 5, 7, 9]))"
            ]
          },
          "metadata": {},
          "execution_count": 90
        }
      ]
    },
    {
      "cell_type": "markdown",
      "source": [
        "### How neural network learns:\n",
        "- start with some randomly guessed values\n",
        "- perform some operations on them\n",
        "  - make them more accurate\n",
        "- update guessed values with newly predicted values\n",
        "- repeat from start\n",
        "\n",
        "*Reduce the randomness of values to be more accurate* - pytorch **random seed** concept\n",
        "\n",
        "Reproducibility: prepare random( more accurate than base random ) values over randoms ( base values )\n",
        "  - it refers to reproducing same kind of random value from a set of data\n",
        "  - pytorch provides mechanism to add 'flavour' of one random to another which is created from it\n",
        "  - new generated values may not be all equal\n",
        "\n",
        "*if we use only random generator function every time to generate new set of value, everytime we will get a new set of value, less chance of similarity - which is a huge loss to for the neural network as it takes a lot of time to generate a specific state(dataset) if we lost it - reproducing that will take much more time - this is where random seed comes into the picture*\n",
        "\n",
        "Random Seed:\n",
        "\n",
        "- it is a numerical value which is used to initialize a pseudorandom number generator\n",
        "\n",
        "- if a set of random values generated with a random seed X then we can generate similar( not necessarily equal but with similar flavour or distribution ) dataset with the same X.\n",
        "\n",
        "- this helps to reproduces a state of neural network next time efficiently\n"
      ],
      "metadata": {
        "id": "dmCaHyNKU7Vw"
      }
    },
    {
      "cell_type": "code",
      "source": [
        "random_set_a = torch.rand(3, 3)\n",
        "random_set_b = torch.rand(3, 3)\n",
        "\n",
        "random_set_a, random_set_b, random_set_a == random_set_b"
      ],
      "metadata": {
        "colab": {
          "base_uri": "https://localhost:8080/"
        },
        "id": "VBtauAWWV5lp",
        "outputId": "fea229ff-f5ca-44e4-838e-2cc2965b54a9"
      },
      "execution_count": 91,
      "outputs": [
        {
          "output_type": "execute_result",
          "data": {
            "text/plain": [
              "(tensor([[0.4518, 0.6916, 0.5906],\n",
              "         [0.0133, 0.4589, 0.3244],\n",
              "         [0.8557, 0.6090, 0.7576]]),\n",
              " tensor([[0.2963, 0.7581, 0.1495],\n",
              "         [0.3781, 0.6695, 0.3731],\n",
              "         [0.2956, 0.8670, 0.7873]]),\n",
              " tensor([[False, False, False],\n",
              "         [False, False, False],\n",
              "         [False, False, False]]))"
            ]
          },
          "metadata": {},
          "execution_count": 91
        }
      ]
    },
    {
      "cell_type": "code",
      "source": [
        "# defining a random seed\n",
        "RANDOM_SEED = 50\n",
        "\n",
        "# set this random seed\n",
        "torch.manual_seed(RANDOM_SEED)\n",
        "\n",
        "# generating first state(tensor)\n",
        "first_state = torch.rand(2, 3)\n",
        "\n",
        "# enforcing reproducibility\n",
        "torch.manual_seed(RANDOM_SEED)\n",
        "\n",
        "# generating second state(tensor) with same flavour of previous\n",
        "second_state = torch.rand(2, 3)\n",
        "\n",
        "print(f\"First State: {first_state}\")\n",
        "print()\n",
        "print(f\"Second State: {second_state}\")\n",
        "print()\n",
        "print(f\"Comparing State: {first_state == second_state}\")"
      ],
      "metadata": {
        "colab": {
          "base_uri": "https://localhost:8080/"
        },
        "id": "eAZszp8SavId",
        "outputId": "c57c8d69-0799-48be-d8b9-1ed38dc0fe81"
      },
      "execution_count": 93,
      "outputs": [
        {
          "output_type": "stream",
          "name": "stdout",
          "text": [
            "First State: tensor([[0.6180, 0.0687, 0.3893],\n",
            "        [0.0404, 0.4013, 0.1442]])\n",
            "\n",
            "Second State: tensor([[0.6180, 0.0687, 0.3893],\n",
            "        [0.0404, 0.4013, 0.1442]])\n",
            "\n",
            "Comparing State: tensor([[True, True, True],\n",
            "        [True, True, True]])\n"
          ]
        }
      ]
    }
  ]
}