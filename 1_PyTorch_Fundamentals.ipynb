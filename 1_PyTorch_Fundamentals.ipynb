{
  "nbformat": 4,
  "nbformat_minor": 0,
  "metadata": {
    "colab": {
      "provenance": [],
      "gpuType": "T4",
      "authorship_tag": "ABX9TyMdfPhHc+/J+28hHE8BCMuu",
      "include_colab_link": true
    },
    "kernelspec": {
      "name": "python3",
      "display_name": "Python 3"
    },
    "language_info": {
      "name": "python"
    },
    "accelerator": "GPU"
  },
  "cells": [
    {
      "cell_type": "markdown",
      "metadata": {
        "id": "view-in-github",
        "colab_type": "text"
      },
      "source": [
        "<a href=\"https://colab.research.google.com/github/SantanuWorks/PyTorch_Learning/blob/main/1_PyTorch_Fundamentals.ipynb\" target=\"_parent\"><img src=\"https://colab.research.google.com/assets/colab-badge.svg\" alt=\"Open In Colab\"/></a>"
      ]
    },
    {
      "cell_type": "markdown",
      "source": [
        "Basic Libraries:"
      ],
      "metadata": {
        "id": "bYcUZw6cWlsK"
      }
    },
    {
      "cell_type": "code",
      "execution_count": 4,
      "metadata": {
        "colab": {
          "base_uri": "https://localhost:8080/"
        },
        "id": "BkD7SFFrVYGR",
        "outputId": "f38685e3-51e6-4628-a60f-6bceb170e291"
      },
      "outputs": [
        {
          "output_type": "stream",
          "name": "stdout",
          "text": [
            "2.1.0+cu118\n"
          ]
        }
      ],
      "source": [
        "import torch\n",
        "import pandas as pd\n",
        "import numpy as np\n",
        "import matplotlib as plt\n",
        "print(torch.__version__)"
      ]
    },
    {
      "cell_type": "markdown",
      "source": [
        "Tensors: Represents multi-dimensional set of numbers"
      ],
      "metadata": {
        "id": "8xF88hl-WtEU"
      }
    },
    {
      "cell_type": "code",
      "source": [
        "## Creating Tensors - using torch.Tensor()\n",
        "# scalar\n",
        "\n",
        "scalar = torch.tensor(7)\n",
        "scalar"
      ],
      "metadata": {
        "colab": {
          "base_uri": "https://localhost:8080/"
        },
        "id": "L2FdfOgGWj4C",
        "outputId": "cf7209d9-f1a3-4044-c391-e1a8fd372efd"
      },
      "execution_count": 5,
      "outputs": [
        {
          "output_type": "execute_result",
          "data": {
            "text/plain": [
              "tensor(7)"
            ]
          },
          "metadata": {},
          "execution_count": 5
        }
      ]
    },
    {
      "cell_type": "code",
      "source": [
        "# dimensions of scalar\n",
        "\n",
        "scalar.ndim"
      ],
      "metadata": {
        "colab": {
          "base_uri": "https://localhost:8080/"
        },
        "id": "T_q4tMEfXugS",
        "outputId": "5ce523ee-e346-4315-991f-db8ac0c61fbf"
      },
      "execution_count": 6,
      "outputs": [
        {
          "output_type": "execute_result",
          "data": {
            "text/plain": [
              "0"
            ]
          },
          "metadata": {},
          "execution_count": 6
        }
      ]
    },
    {
      "cell_type": "code",
      "source": [
        "# get tensor value as int\n",
        "\n",
        "scalar.item()"
      ],
      "metadata": {
        "colab": {
          "base_uri": "https://localhost:8080/"
        },
        "id": "VmlRCRHtX3BV",
        "outputId": "7d3fda24-4349-4751-eeb1-6e1ad117d7c7"
      },
      "execution_count": 7,
      "outputs": [
        {
          "output_type": "execute_result",
          "data": {
            "text/plain": [
              "7"
            ]
          },
          "metadata": {},
          "execution_count": 7
        }
      ]
    },
    {
      "cell_type": "code",
      "source": [
        "# Vector\n",
        "\n",
        "vector = torch.tensor( [7, 7 ] )\n",
        "print(vector)\n",
        "print(vector.ndim)\n",
        "print(vector.shape)"
      ],
      "metadata": {
        "colab": {
          "base_uri": "https://localhost:8080/"
        },
        "id": "cbiaj6WcX-Pj",
        "outputId": "1f456df8-e0f4-4f41-8101-70941891a599"
      },
      "execution_count": 8,
      "outputs": [
        {
          "output_type": "stream",
          "name": "stdout",
          "text": [
            "tensor([7, 7])\n",
            "1\n",
            "torch.Size([2])\n"
          ]
        }
      ]
    },
    {
      "cell_type": "code",
      "source": [
        "# Create a matrix\n",
        "\n",
        "mat = torch.tensor(\n",
        "    [ [1, 2],\n",
        "    [3, 4] ]\n",
        ")\n",
        "\n",
        "print(mat)\n",
        "print(mat.ndim)\n",
        "print(mat.shape)"
      ],
      "metadata": {
        "colab": {
          "base_uri": "https://localhost:8080/"
        },
        "id": "RGbvno6UYtsN",
        "outputId": "9e04faf8-f627-4d1a-f035-4285f74f480d"
      },
      "execution_count": 9,
      "outputs": [
        {
          "output_type": "stream",
          "name": "stdout",
          "text": [
            "tensor([[1, 2],\n",
            "        [3, 4]])\n",
            "2\n",
            "torch.Size([2, 2])\n"
          ]
        }
      ]
    },
    {
      "cell_type": "code",
      "source": [
        "# creating a tensor\n",
        "\n",
        "ten = torch.tensor(\n",
        "    [ [ [1, 2],\n",
        "    [3, 4] ],\n",
        "      [ [5, 6],\n",
        "    [7, 8] ]\n",
        "    ]\n",
        ")\n",
        "\n",
        "print(ten)\n",
        "print(ten.ndim)\n",
        "print(ten.shape)\n",
        "\n",
        "print(\"Value at 0: \", ten[0])\n",
        "print(\"Value at 1: \", ten[1])"
      ],
      "metadata": {
        "colab": {
          "base_uri": "https://localhost:8080/"
        },
        "id": "G3GvF7hwZJ4S",
        "outputId": "91997367-6ea4-40c3-e90f-46a5a0addef4"
      },
      "execution_count": 10,
      "outputs": [
        {
          "output_type": "stream",
          "name": "stdout",
          "text": [
            "tensor([[[1, 2],\n",
            "         [3, 4]],\n",
            "\n",
            "        [[5, 6],\n",
            "         [7, 8]]])\n",
            "3\n",
            "torch.Size([2, 2, 2])\n",
            "Value at 0:  tensor([[1, 2],\n",
            "        [3, 4]])\n",
            "Value at 1:  tensor([[5, 6],\n",
            "        [7, 8]])\n"
          ]
        }
      ]
    },
    {
      "cell_type": "code",
      "source": [
        "# Random Tensors - important for neural network to represent data\n",
        "\n",
        "# random tensor of size 3x4\n",
        "\n",
        "random_tensor = torch.rand(3, 3, 3)\n",
        "print(random_tensor)\n",
        "print(random_tensor.ndim)\n",
        "print(random_tensor.shape)"
      ],
      "metadata": {
        "colab": {
          "base_uri": "https://localhost:8080/"
        },
        "id": "61JqoTjQFlpa",
        "outputId": "94d14bce-ebdf-4586-fc8e-9b7bd3055c0b"
      },
      "execution_count": 11,
      "outputs": [
        {
          "output_type": "stream",
          "name": "stdout",
          "text": [
            "tensor([[[0.9030, 0.2902, 0.4590],\n",
            "         [0.0509, 0.6906, 0.5632],\n",
            "         [0.4834, 0.1827, 0.8343]],\n",
            "\n",
            "        [[0.4777, 0.8775, 0.5418],\n",
            "         [0.3442, 0.1954, 0.0163],\n",
            "         [0.0717, 0.7666, 0.8277]],\n",
            "\n",
            "        [[0.3481, 0.0172, 0.3002],\n",
            "         [0.4826, 0.1714, 0.8874],\n",
            "         [0.0698, 0.4338, 0.1312]]])\n",
            "3\n",
            "torch.Size([3, 3, 3])\n"
          ]
        }
      ]
    },
    {
      "cell_type": "code",
      "source": [
        "# tensor for image\n",
        "\n",
        "image_tensor = torch.rand( size = (38, 38, 2) ) # height, width = 38, two color\n",
        "image_tensor.shape, image_tensor.ndim"
      ],
      "metadata": {
        "colab": {
          "base_uri": "https://localhost:8080/"
        },
        "id": "2VhrWwRuHHqo",
        "outputId": "a5882b88-4380-4fac-d1fe-a3f1c4eb5ab3"
      },
      "execution_count": 12,
      "outputs": [
        {
          "output_type": "execute_result",
          "data": {
            "text/plain": [
              "(torch.Size([38, 38, 2]), 3)"
            ]
          },
          "metadata": {},
          "execution_count": 12
        }
      ]
    },
    {
      "cell_type": "code",
      "source": [
        "# all zero or ones tensor\n",
        "\n",
        "zero_tensor  = torch.zeros( size=(2, 2) )\n",
        "one_tensor  = torch.ones( size=(2, 2) )\n",
        "\n",
        "zero_tensor, one_tensor, zero_tensor+one_tensor\n",
        "\n",
        "# data type of tenor\n",
        "zero_tensor.dtype"
      ],
      "metadata": {
        "colab": {
          "base_uri": "https://localhost:8080/"
        },
        "id": "DG69E1KQHz-7",
        "outputId": "c045aacb-aa7a-4d7a-b70b-97f83755bb40"
      },
      "execution_count": 13,
      "outputs": [
        {
          "output_type": "execute_result",
          "data": {
            "text/plain": [
              "torch.float32"
            ]
          },
          "metadata": {},
          "execution_count": 13
        }
      ]
    },
    {
      "cell_type": "code",
      "source": [
        "# create tensor range\n",
        "\n",
        "ran = torch.arange(-1, 3)\n",
        "print(ran)\n",
        "\n",
        "ran = torch.arange(start = -1, end = 1, step = 0.2)\n",
        "print(ran)"
      ],
      "metadata": {
        "colab": {
          "base_uri": "https://localhost:8080/"
        },
        "id": "bpNbT44xJBZK",
        "outputId": "6b335a68-c639-4c28-9bc5-a36b252af5d6"
      },
      "execution_count": 14,
      "outputs": [
        {
          "output_type": "stream",
          "name": "stdout",
          "text": [
            "tensor([-1,  0,  1,  2])\n",
            "tensor([-1.0000e+00, -8.0000e-01, -6.0000e-01, -4.0000e-01, -2.0000e-01,\n",
            "         5.5511e-17,  2.0000e-01,  4.0000e-01,  6.0000e-01,  8.0000e-01])\n"
          ]
        }
      ]
    },
    {
      "cell_type": "code",
      "source": [
        "# create tensors like - replicate a tensor without define size - copy tensor design\n",
        "\n",
        "cop = torch.ones_like( input=ran )\n",
        "cop"
      ],
      "metadata": {
        "colab": {
          "base_uri": "https://localhost:8080/"
        },
        "id": "EsMO9CEMJ_vK",
        "outputId": "6558d50d-27c5-4352-e8db-fee3e414b059"
      },
      "execution_count": 15,
      "outputs": [
        {
          "output_type": "execute_result",
          "data": {
            "text/plain": [
              "tensor([1., 1., 1., 1., 1., 1., 1., 1., 1., 1.])"
            ]
          },
          "metadata": {},
          "execution_count": 15
        }
      ]
    },
    {
      "cell_type": "code",
      "source": [
        "# tensor datatypes\n",
        "\n",
        "# main errors\n",
        "# not right datatype\n",
        "# not right device\n",
        "# not right shape\n",
        "\n",
        "float_32_tensor = torch.tensor( [2.3, 1.0, 5.3], dtype = None, device = None, requires_grad = False )\n",
        "float_32_tensor"
      ],
      "metadata": {
        "colab": {
          "base_uri": "https://localhost:8080/"
        },
        "id": "7lsWuwPnKpt6",
        "outputId": "b85a1d48-c0d5-4a49-9870-cae5ce9def2c"
      },
      "execution_count": 16,
      "outputs": [
        {
          "output_type": "execute_result",
          "data": {
            "text/plain": [
              "tensor([2.3000, 1.0000, 5.3000])"
            ]
          },
          "metadata": {},
          "execution_count": 16
        }
      ]
    },
    {
      "cell_type": "code",
      "source": [
        "# tensor datatypes\n",
        "# float 32 sensor\n",
        "\n",
        "float_16_tensor = float_32_tensor.type(torch.float16)\n",
        "float_16_tensor, float_16_tensor.device"
      ],
      "metadata": {
        "colab": {
          "base_uri": "https://localhost:8080/"
        },
        "id": "4bbh_8BcMJXI",
        "outputId": "0935ae74-d8c5-4a35-8794-9d43f05b0982"
      },
      "execution_count": 17,
      "outputs": [
        {
          "output_type": "execute_result",
          "data": {
            "text/plain": [
              "(tensor([2.3008, 1.0000, 5.3008], dtype=torch.float16), device(type='cpu'))"
            ]
          },
          "metadata": {},
          "execution_count": 17
        }
      ]
    },
    {
      "cell_type": "code",
      "source": [
        "# manipulating tensor\n",
        "# operation with a scalar\n",
        "\n",
        "some_tensor = torch.tensor([3, 4, 1])\n",
        "some_tensor\n",
        "\n",
        "# sum\n",
        "some_tensor + 12\n",
        "\n",
        "# mul\n",
        "some_tensor * 10\n",
        "\n",
        "# div\n",
        "some_tensor / 3\n",
        "\n",
        "# sub\n",
        "some_tensor - 10\n",
        "\n",
        "# matrix operations\n",
        "m1 = torch.tensor( [\n",
        "    [1, 3],\n",
        "    [2, 4]\n",
        "] )\n",
        "\n",
        "m2 = torch.tensor( [\n",
        "    [0, 1],\n",
        "    [0, 1]\n",
        "] )\n",
        "\n",
        "# matrix sum\n",
        "m1 + m2\n",
        "\n",
        "# matrix sub\n",
        "m1 - m2\n",
        "\n",
        "# matrix div\n",
        "m1 / m2"
      ],
      "metadata": {
        "colab": {
          "base_uri": "https://localhost:8080/"
        },
        "id": "ukl1fr8-NOoW",
        "outputId": "dfec3ad9-ea72-4995-ea47-db7a23f73df9"
      },
      "execution_count": 18,
      "outputs": [
        {
          "output_type": "execute_result",
          "data": {
            "text/plain": [
              "tensor([[inf, 3.],\n",
              "        [inf, 4.]])"
            ]
          },
          "metadata": {},
          "execution_count": 18
        }
      ]
    },
    {
      "cell_type": "code",
      "source": [
        "# multiplication\n",
        "# 1. element wise\n",
        "# 2. dot product\n",
        "\n",
        "# matrix mul - element wise\n",
        "m1 * m2\n",
        "torch.mul(m1, m2)\n",
        "\n",
        "# matrix mul - dot product\n",
        "torch.matmul(m1, m2)"
      ],
      "metadata": {
        "colab": {
          "base_uri": "https://localhost:8080/"
        },
        "id": "92mr-O91qoIj",
        "outputId": "1478ade5-6180-4f64-beb9-cea30e58d10f"
      },
      "execution_count": 19,
      "outputs": [
        {
          "output_type": "execute_result",
          "data": {
            "text/plain": [
              "tensor([[0, 4],\n",
              "        [0, 6]])"
            ]
          },
          "metadata": {},
          "execution_count": 19
        }
      ]
    },
    {
      "cell_type": "code",
      "source": [
        "%%time\n",
        "torch.matmul(m1, m2)"
      ],
      "metadata": {
        "colab": {
          "base_uri": "https://localhost:8080/"
        },
        "id": "R5uuNP5NsIzH",
        "outputId": "77d63eee-b028-495d-d558-fa1a52ec0427"
      },
      "execution_count": 20,
      "outputs": [
        {
          "output_type": "stream",
          "name": "stdout",
          "text": [
            "CPU times: user 29 µs, sys: 4 µs, total: 33 µs\n",
            "Wall time: 36.5 µs\n"
          ]
        },
        {
          "output_type": "execute_result",
          "data": {
            "text/plain": [
              "tensor([[0, 4],\n",
              "        [0, 6]])"
            ]
          },
          "metadata": {},
          "execution_count": 20
        }
      ]
    },
    {
      "cell_type": "markdown",
      "source": [
        "two rules for performing matrix multiplicaion\n",
        "\n",
        "1. inner dimensions must match\n",
        "\n",
        "   M1(3 X 4) and M2(4, 4) will work - inner 4 and 4 are matching\n",
        "   \n",
        "   M1(3 X 4) and M2(3, 4) will not work - shape error\n",
        "\n",
        "2. output matrix will have the shape of outer dimensions\n",
        "\n",
        "   M1(3 X 4) * M2(4, 4) = M3(3 X 4)\n",
        "\n",
        "   M1(5 X 3) * M2(3, 2) = M3(5 X 2)"
      ],
      "metadata": {
        "id": "5thTV1Q1dlSD"
      }
    },
    {
      "cell_type": "code",
      "source": [
        "M1 = torch.rand(size=(3, 5))\n",
        "M2 = torch.rand(size=(5,3))\n",
        "M3 = torch.rand(size=(3, 4))"
      ],
      "metadata": {
        "id": "mcZ4Yye_buvI"
      },
      "execution_count": 21,
      "outputs": []
    },
    {
      "cell_type": "code",
      "source": [
        "print(M1)\n",
        "print(M2)\n",
        "\n",
        "# will work\n",
        "print(torch.matmul(M1, M2))\n",
        "\n",
        "# Will not work\n",
        "# print(torch.matmul(M1, M3))"
      ],
      "metadata": {
        "colab": {
          "base_uri": "https://localhost:8080/"
        },
        "id": "16ggM7TJdder",
        "outputId": "b9351524-1024-4935-80c5-09f472c9390a"
      },
      "execution_count": 22,
      "outputs": [
        {
          "output_type": "stream",
          "name": "stdout",
          "text": [
            "tensor([[0.9132, 0.6775, 0.1283, 0.7569, 0.4540],\n",
            "        [0.2783, 0.9926, 0.8647, 0.9560, 0.1208],\n",
            "        [0.0115, 0.7758, 0.5070, 0.9934, 0.3052]])\n",
            "tensor([[0.8831, 0.9340, 0.7348],\n",
            "        [0.0325, 0.4768, 0.0277],\n",
            "        [0.8119, 0.6330, 0.8187],\n",
            "        [0.5200, 0.8731, 0.1778],\n",
            "        [0.4184, 0.4195, 0.2128]])\n",
            "tensor([[1.5162, 2.1086, 1.0260],\n",
            "        [1.5277, 2.1659, 1.1356],\n",
            "        [1.0912, 1.6969, 0.6866]])\n"
          ]
        }
      ]
    },
    {
      "cell_type": "code",
      "source": [
        "# 4 X 3\n",
        "tensor_a = torch.tensor(\n",
        "    [\n",
        "        [1, 2, 3],\n",
        "        [2, 3, 4],\n",
        "        [3, 4, 5],\n",
        "        [4, 5, 6]\n",
        "    ]\n",
        ")\n",
        "\n",
        "# 3 X 2\n",
        "tensor_b = torch.tensor(\n",
        "    [\n",
        "        [1, 2],\n",
        "        [2, 3],\n",
        "        [3, 4]\n",
        "    ]\n",
        ")\n",
        "\n",
        "# output: 4 X 2\n",
        "torch.matmul(tensor_a, tensor_b)"
      ],
      "metadata": {
        "colab": {
          "base_uri": "https://localhost:8080/"
        },
        "id": "BxcoFOHPfK9o",
        "outputId": "50af527a-490d-4a2e-fc7a-2f7f3c123cf9"
      },
      "execution_count": 23,
      "outputs": [
        {
          "output_type": "execute_result",
          "data": {
            "text/plain": [
              "tensor([[14, 20],\n",
              "        [20, 29],\n",
              "        [26, 38],\n",
              "        [32, 47]])"
            ]
          },
          "metadata": {},
          "execution_count": 23
        }
      ]
    },
    {
      "cell_type": "markdown",
      "source": [
        "Transpose of a matrix/tensor is the process of swapping its dimensions\n",
        "\n",
        "e.g. `transpose of M(3 X 4) will be MT(4 X 3)`"
      ],
      "metadata": {
        "id": "RwJ8K68bf8zw"
      }
    },
    {
      "cell_type": "code",
      "source": [
        "tensor_a = torch.tensor(\n",
        "    [\n",
        "        [1, 2, 3],\n",
        "        [2, 3, 4]\n",
        "    ]\n",
        ")\n",
        "print(tensor_a)\n",
        "print(tensor_a.shape)\n",
        "\n",
        "print()\n",
        "\n",
        "tensor_a_transpose = tensor_a.T\n",
        "print(tensor_a_transpose)\n",
        "print(tensor_a_transpose.shape)"
      ],
      "metadata": {
        "colab": {
          "base_uri": "https://localhost:8080/"
        },
        "id": "pMhJR6KNgUZW",
        "outputId": "479ac762-cfa9-4c7e-b994-98ebf65f0fd7"
      },
      "execution_count": 24,
      "outputs": [
        {
          "output_type": "stream",
          "name": "stdout",
          "text": [
            "tensor([[1, 2, 3],\n",
            "        [2, 3, 4]])\n",
            "torch.Size([2, 3])\n",
            "\n",
            "tensor([[1, 2],\n",
            "        [2, 3],\n",
            "        [3, 4]])\n",
            "torch.Size([3, 2])\n"
          ]
        }
      ]
    },
    {
      "cell_type": "markdown",
      "source": [
        "Tensor aggregation: Find max, min, mean, etc"
      ],
      "metadata": {
        "id": "LJy4btqkhub5"
      }
    },
    {
      "cell_type": "code",
      "source": [
        "ta = torch.arange(1, 4)"
      ],
      "metadata": {
        "id": "5irSGJ5oh1YH"
      },
      "execution_count": 25,
      "outputs": []
    },
    {
      "cell_type": "code",
      "source": [
        "# Find the max value\n",
        "\n",
        "print(ta)\n",
        "ta.max(), torch.max(ta)"
      ],
      "metadata": {
        "colab": {
          "base_uri": "https://localhost:8080/"
        },
        "id": "IO-Uzrf2iNbQ",
        "outputId": "3ef32bf9-34b5-4fa6-8a47-bf541f80ff3b"
      },
      "execution_count": 26,
      "outputs": [
        {
          "output_type": "stream",
          "name": "stdout",
          "text": [
            "tensor([1, 2, 3])\n"
          ]
        },
        {
          "output_type": "execute_result",
          "data": {
            "text/plain": [
              "(tensor(3), tensor(3))"
            ]
          },
          "metadata": {},
          "execution_count": 26
        }
      ]
    },
    {
      "cell_type": "code",
      "source": [
        "# Find the min value\n",
        "\n",
        "print(ta)\n",
        "ta.min(), torch.min(ta)"
      ],
      "metadata": {
        "colab": {
          "base_uri": "https://localhost:8080/"
        },
        "id": "JFTY6ccVi814",
        "outputId": "007f3203-7c83-46de-e863-76fc63e445cc"
      },
      "execution_count": 27,
      "outputs": [
        {
          "output_type": "stream",
          "name": "stdout",
          "text": [
            "tensor([1, 2, 3])\n"
          ]
        },
        {
          "output_type": "execute_result",
          "data": {
            "text/plain": [
              "(tensor(1), tensor(1))"
            ]
          },
          "metadata": {},
          "execution_count": 27
        }
      ]
    },
    {
      "cell_type": "code",
      "source": [
        "# Find the mean value\n",
        "\n",
        "print(ta)\n",
        "ta.type(torch.float32).mean(), torch.mean(ta.type(torch.float32))"
      ],
      "metadata": {
        "colab": {
          "base_uri": "https://localhost:8080/"
        },
        "id": "euPTInfnjRQQ",
        "outputId": "a6538c7d-f720-4dce-bee3-e00d1d144b70"
      },
      "execution_count": 28,
      "outputs": [
        {
          "output_type": "stream",
          "name": "stdout",
          "text": [
            "tensor([1, 2, 3])\n"
          ]
        },
        {
          "output_type": "execute_result",
          "data": {
            "text/plain": [
              "(tensor(2.), tensor(2.))"
            ]
          },
          "metadata": {},
          "execution_count": 28
        }
      ]
    },
    {
      "cell_type": "code",
      "source": [
        "# Find the sum value\n",
        "\n",
        "print(ta)\n",
        "ta.sum(), torch.sum(ta)"
      ],
      "metadata": {
        "colab": {
          "base_uri": "https://localhost:8080/"
        },
        "id": "IGMQs_5-k0nJ",
        "outputId": "363d8e62-951b-4e99-aaaf-dd4e4b3e7b90"
      },
      "execution_count": 29,
      "outputs": [
        {
          "output_type": "stream",
          "name": "stdout",
          "text": [
            "tensor([1, 2, 3])\n"
          ]
        },
        {
          "output_type": "execute_result",
          "data": {
            "text/plain": [
              "(tensor(6), tensor(6))"
            ]
          },
          "metadata": {},
          "execution_count": 29
        }
      ]
    },
    {
      "cell_type": "code",
      "source": [
        "# find positional max and min\n",
        "\n",
        "# find the position in tensor that has min or max value using argmin() or argmax\n",
        "\n",
        "tb = torch.tensor([2, 4, -2, 2, 6, 0, 3])\n",
        "print(tb)\n",
        "\n",
        "tb.argmin(), tb.argmax()\n",
        "torch.argmin(tb), torch.argmax(tb)"
      ],
      "metadata": {
        "colab": {
          "base_uri": "https://localhost:8080/"
        },
        "id": "yiiNKLPNlI7P",
        "outputId": "53e1aaaf-f0b1-4c93-ba6e-a683c1719d00"
      },
      "execution_count": 30,
      "outputs": [
        {
          "output_type": "stream",
          "name": "stdout",
          "text": [
            "tensor([ 2,  4, -2,  2,  6,  0,  3])\n"
          ]
        },
        {
          "output_type": "execute_result",
          "data": {
            "text/plain": [
              "(tensor(2), tensor(4))"
            ]
          },
          "metadata": {},
          "execution_count": 30
        }
      ]
    },
    {
      "cell_type": "markdown",
      "source": [
        "## Reshaping, Stacking, Squeezing, Unsqueezing tensors\n",
        "\n",
        "- Reshaping: reshapes an tensor a defined shape\n",
        "\n",
        "- View: return a view of an input tensor of certain shape but keep the same memory as the orignal tensor\n",
        "\n",
        "- Stacking: combine multiple tensors on the top of each other ( vstack - vertical stacking ) or side by side ( hstack - horizontal stacking )\n",
        "\n",
        "- Squeeze: removes all one dimensions from a tensor\n",
        "\n",
        "- Unsqueeze: add one dimension to a target tensor\n",
        "\n",
        "- Permute: return a view of the input with dimensions permuted(swapped) in a certain way"
      ],
      "metadata": {
        "id": "VG0lyHS9mWDA"
      }
    },
    {
      "cell_type": "code",
      "source": [
        "import torch"
      ],
      "metadata": {
        "id": "G9GtD8CunnA4"
      },
      "execution_count": 31,
      "outputs": []
    },
    {
      "cell_type": "code",
      "source": [
        "x = torch.arange(0, 6, 1)\n",
        "print(x)\n",
        "x, x.shape"
      ],
      "metadata": {
        "colab": {
          "base_uri": "https://localhost:8080/"
        },
        "id": "4k-VRB5Ln2L7",
        "outputId": "8c45a020-7024-4e68-b62f-0343e36c7d88"
      },
      "execution_count": 32,
      "outputs": [
        {
          "output_type": "stream",
          "name": "stdout",
          "text": [
            "tensor([0, 1, 2, 3, 4, 5])\n"
          ]
        },
        {
          "output_type": "execute_result",
          "data": {
            "text/plain": [
              "(tensor([0, 1, 2, 3, 4, 5]), torch.Size([6]))"
            ]
          },
          "metadata": {},
          "execution_count": 32
        }
      ]
    },
    {
      "cell_type": "code",
      "source": [
        "# change shape\n",
        "\n",
        "x_reshape = x.reshape(3, 2)\n",
        "x_reshape, x_reshape.shape"
      ],
      "metadata": {
        "colab": {
          "base_uri": "https://localhost:8080/"
        },
        "id": "6HNr2yBYoVyu",
        "outputId": "08e3b29c-e37e-44b2-92fc-e7d768919bef"
      },
      "execution_count": 33,
      "outputs": [
        {
          "output_type": "execute_result",
          "data": {
            "text/plain": [
              "(tensor([[0, 1],\n",
              "         [2, 3],\n",
              "         [4, 5]]),\n",
              " torch.Size([3, 2]))"
            ]
          },
          "metadata": {},
          "execution_count": 33
        }
      ]
    },
    {
      "cell_type": "code",
      "source": [
        "# change shape\n",
        "\n",
        "x_reshape = x.reshape(6, 1)\n",
        "x_reshape, x_reshape.shape"
      ],
      "metadata": {
        "colab": {
          "base_uri": "https://localhost:8080/"
        },
        "id": "Tyd7a9oyojMi",
        "outputId": "bcc1679a-4f4d-4919-ccb7-37d250f2e042"
      },
      "execution_count": 34,
      "outputs": [
        {
          "output_type": "execute_result",
          "data": {
            "text/plain": [
              "(tensor([[0],\n",
              "         [1],\n",
              "         [2],\n",
              "         [3],\n",
              "         [4],\n",
              "         [5]]),\n",
              " torch.Size([6, 1]))"
            ]
          },
          "metadata": {},
          "execution_count": 34
        }
      ]
    },
    {
      "cell_type": "code",
      "source": [
        "# change view\n",
        "\n",
        "x_new_view = x.view(2, 3)\n",
        "x, x.shape, x_new_view, x_new_view.shape"
      ],
      "metadata": {
        "colab": {
          "base_uri": "https://localhost:8080/"
        },
        "id": "OlIEghNmop8a",
        "outputId": "e0a0bfde-e218-4637-f6e4-e5ba814d6654"
      },
      "execution_count": 35,
      "outputs": [
        {
          "output_type": "execute_result",
          "data": {
            "text/plain": [
              "(tensor([0, 1, 2, 3, 4, 5]),\n",
              " torch.Size([6]),\n",
              " tensor([[0, 1, 2],\n",
              "         [3, 4, 5]]),\n",
              " torch.Size([2, 3]))"
            ]
          },
          "metadata": {},
          "execution_count": 35
        }
      ]
    },
    {
      "cell_type": "code",
      "source": [
        "# changing generated view reflects on base view ( as they share same memory )\n",
        "x_new_view[0][1] = -11\n",
        "x, x_new_view"
      ],
      "metadata": {
        "colab": {
          "base_uri": "https://localhost:8080/"
        },
        "id": "QlkGKwJhp9y3",
        "outputId": "13f4e8c1-25f6-4526-f53a-74e2ca82c47a"
      },
      "execution_count": 36,
      "outputs": [
        {
          "output_type": "execute_result",
          "data": {
            "text/plain": [
              "(tensor([  0, -11,   2,   3,   4,   5]),\n",
              " tensor([[  0, -11,   2],\n",
              "         [  3,   4,   5]]))"
            ]
          },
          "metadata": {},
          "execution_count": 36
        }
      ]
    },
    {
      "cell_type": "code",
      "source": [
        "# stack tensors\n",
        "\n",
        "x_stacked = torch.stack([x, x], dim=1)\n",
        "x, x_stacked"
      ],
      "metadata": {
        "colab": {
          "base_uri": "https://localhost:8080/"
        },
        "id": "zH3r_eM1qhKn",
        "outputId": "a1ad98be-d1d6-4c61-edfb-9b82fdb4da52"
      },
      "execution_count": 37,
      "outputs": [
        {
          "output_type": "execute_result",
          "data": {
            "text/plain": [
              "(tensor([  0, -11,   2,   3,   4,   5]),\n",
              " tensor([[  0,   0],\n",
              "         [-11, -11],\n",
              "         [  2,   2],\n",
              "         [  3,   3],\n",
              "         [  4,   4],\n",
              "         [  5,   5]]))"
            ]
          },
          "metadata": {},
          "execution_count": 37
        }
      ]
    },
    {
      "cell_type": "code",
      "source": [
        "# stack tensors\n",
        "\n",
        "x_stacked = torch.stack([x, x], dim=0)\n",
        "x, x_stacked"
      ],
      "metadata": {
        "colab": {
          "base_uri": "https://localhost:8080/"
        },
        "id": "TiEd_0GbrOzd",
        "outputId": "95f2ba59-1111-4c9f-8f51-ba0cae86795b"
      },
      "execution_count": 38,
      "outputs": [
        {
          "output_type": "execute_result",
          "data": {
            "text/plain": [
              "(tensor([  0, -11,   2,   3,   4,   5]),\n",
              " tensor([[  0, -11,   2,   3,   4,   5],\n",
              "         [  0, -11,   2,   3,   4,   5]]))"
            ]
          },
          "metadata": {},
          "execution_count": 38
        }
      ]
    },
    {
      "cell_type": "code",
      "source": [
        "# stack tensors\n",
        "\n",
        "x_stacked = torch.hstack([x, x])\n",
        "x, x_stacked"
      ],
      "metadata": {
        "colab": {
          "base_uri": "https://localhost:8080/"
        },
        "id": "pWUeQgwhrS4v",
        "outputId": "df13807b-63d8-4c25-a667-9ef50e9cf963"
      },
      "execution_count": 39,
      "outputs": [
        {
          "output_type": "execute_result",
          "data": {
            "text/plain": [
              "(tensor([  0, -11,   2,   3,   4,   5]),\n",
              " tensor([  0, -11,   2,   3,   4,   5,   0, -11,   2,   3,   4,   5]))"
            ]
          },
          "metadata": {},
          "execution_count": 39
        }
      ]
    },
    {
      "cell_type": "code",
      "source": [
        "# stack tensors\n",
        "\n",
        "x_stacked = torch.vstack([x, x])\n",
        "x, x_stacked"
      ],
      "metadata": {
        "colab": {
          "base_uri": "https://localhost:8080/"
        },
        "id": "6lnPCzf7rd8O",
        "outputId": "e08ddcbe-1bb2-4967-88c6-1f63d3689d48"
      },
      "execution_count": 40,
      "outputs": [
        {
          "output_type": "execute_result",
          "data": {
            "text/plain": [
              "(tensor([  0, -11,   2,   3,   4,   5]),\n",
              " tensor([[  0, -11,   2,   3,   4,   5],\n",
              "         [  0, -11,   2,   3,   4,   5]]))"
            ]
          },
          "metadata": {},
          "execution_count": 40
        }
      ]
    },
    {
      "cell_type": "code",
      "source": [
        "a = torch.tensor(\n",
        "    [\n",
        "        [2, 4, 6],\n",
        "        [1, 2, 3]\n",
        "    ]\n",
        ")\n",
        "\n",
        "b = torch.tensor(\n",
        "    [\n",
        "        [0, 1, 3],\n",
        "        [3, 4, 5]\n",
        "    ]\n",
        ")\n",
        "\n",
        "a, b"
      ],
      "metadata": {
        "colab": {
          "base_uri": "https://localhost:8080/"
        },
        "id": "geuzOofbrgyW",
        "outputId": "5ff823c4-b96f-466c-d313-54cd2715f382"
      },
      "execution_count": 41,
      "outputs": [
        {
          "output_type": "execute_result",
          "data": {
            "text/plain": [
              "(tensor([[2, 4, 6],\n",
              "         [1, 2, 3]]),\n",
              " tensor([[0, 1, 3],\n",
              "         [3, 4, 5]]))"
            ]
          },
          "metadata": {},
          "execution_count": 41
        }
      ]
    },
    {
      "cell_type": "code",
      "source": [
        "# stack tensors\n",
        "\n",
        "stack_ab = None\n",
        "stack_ab = torch.stack([a, b], dim=0)\n",
        "stack_ab"
      ],
      "metadata": {
        "colab": {
          "base_uri": "https://localhost:8080/"
        },
        "id": "abygTkALsp_E",
        "outputId": "9e20bbd2-0463-4264-ab2e-77ed4b8269be"
      },
      "execution_count": 42,
      "outputs": [
        {
          "output_type": "execute_result",
          "data": {
            "text/plain": [
              "tensor([[[2, 4, 6],\n",
              "         [1, 2, 3]],\n",
              "\n",
              "        [[0, 1, 3],\n",
              "         [3, 4, 5]]])"
            ]
          },
          "metadata": {},
          "execution_count": 42
        }
      ]
    },
    {
      "cell_type": "code",
      "source": [
        "# stack tensors\n",
        "\n",
        "stack_ab = torch.stack([a, b], dim=1)\n",
        "stack_ab"
      ],
      "metadata": {
        "colab": {
          "base_uri": "https://localhost:8080/"
        },
        "id": "hr6y60zZr279",
        "outputId": "95034235-0f26-4caf-8785-0920c4e30f6d"
      },
      "execution_count": 43,
      "outputs": [
        {
          "output_type": "execute_result",
          "data": {
            "text/plain": [
              "tensor([[[2, 4, 6],\n",
              "         [0, 1, 3]],\n",
              "\n",
              "        [[1, 2, 3],\n",
              "         [3, 4, 5]]])"
            ]
          },
          "metadata": {},
          "execution_count": 43
        }
      ]
    },
    {
      "cell_type": "code",
      "source": [
        "# stack tensors\n",
        "\n",
        "stack_ab = None\n",
        "stack_ab = torch.stack([a, b], dim=2)\n",
        "stack_ab"
      ],
      "metadata": {
        "colab": {
          "base_uri": "https://localhost:8080/"
        },
        "id": "-ChOpdXtsNTq",
        "outputId": "32a46213-3cda-4243-a41c-dc5c91dd51f1"
      },
      "execution_count": 44,
      "outputs": [
        {
          "output_type": "execute_result",
          "data": {
            "text/plain": [
              "tensor([[[2, 0],\n",
              "         [4, 1],\n",
              "         [6, 3]],\n",
              "\n",
              "        [[1, 3],\n",
              "         [2, 4],\n",
              "         [3, 5]]])"
            ]
          },
          "metadata": {},
          "execution_count": 44
        }
      ]
    },
    {
      "cell_type": "code",
      "source": [
        "# stack tensors\n",
        "\n",
        "stack_ab = torch.hstack([a, b])\n",
        "stack_ab"
      ],
      "metadata": {
        "colab": {
          "base_uri": "https://localhost:8080/"
        },
        "id": "PBnzCSZ1szlQ",
        "outputId": "a83f9f78-5aaf-4c7d-97c4-eb068d785227"
      },
      "execution_count": 45,
      "outputs": [
        {
          "output_type": "execute_result",
          "data": {
            "text/plain": [
              "tensor([[2, 4, 6, 0, 1, 3],\n",
              "        [1, 2, 3, 3, 4, 5]])"
            ]
          },
          "metadata": {},
          "execution_count": 45
        }
      ]
    },
    {
      "cell_type": "code",
      "source": [
        "# stack tensors\n",
        "\n",
        "stack_ab = torch.vstack([a, b])\n",
        "stack_ab"
      ],
      "metadata": {
        "colab": {
          "base_uri": "https://localhost:8080/"
        },
        "id": "6rXd27_ns4cw",
        "outputId": "c0313a7e-e572-4a8e-bc30-16f5c2b07006"
      },
      "execution_count": 46,
      "outputs": [
        {
          "output_type": "execute_result",
          "data": {
            "text/plain": [
              "tensor([[2, 4, 6],\n",
              "        [1, 2, 3],\n",
              "        [0, 1, 3],\n",
              "        [3, 4, 5]])"
            ]
          },
          "metadata": {},
          "execution_count": 46
        }
      ]
    },
    {
      "cell_type": "code",
      "source": [
        "x = None\n",
        "x_reshaped = None\n",
        "\n",
        "x = torch.tensor([1, 2, 3, 4, 5, 6])\n",
        "x_reshaped = x.reshape(6, 1)\n",
        "x, x_reshaped"
      ],
      "metadata": {
        "colab": {
          "base_uri": "https://localhost:8080/"
        },
        "id": "1hQ77z9Ns631",
        "outputId": "df779364-ea25-4137-f98c-74699b4b7cb7"
      },
      "execution_count": 47,
      "outputs": [
        {
          "output_type": "execute_result",
          "data": {
            "text/plain": [
              "(tensor([1, 2, 3, 4, 5, 6]),\n",
              " tensor([[1],\n",
              "         [2],\n",
              "         [3],\n",
              "         [4],\n",
              "         [5],\n",
              "         [6]]))"
            ]
          },
          "metadata": {},
          "execution_count": 47
        }
      ]
    },
    {
      "cell_type": "code",
      "source": [
        "# Squeeze - remove the one dimensions\n",
        "\n",
        "x_squeezed = x_reshaped.squeeze()\n",
        "x_squeezed, x_squeezed.shape"
      ],
      "metadata": {
        "colab": {
          "base_uri": "https://localhost:8080/"
        },
        "id": "ZTHtjDMTt-5H",
        "outputId": "4690ff0b-e408-421d-f7b6-e18704936eeb"
      },
      "execution_count": 48,
      "outputs": [
        {
          "output_type": "execute_result",
          "data": {
            "text/plain": [
              "(tensor([1, 2, 3, 4, 5, 6]), torch.Size([6]))"
            ]
          },
          "metadata": {},
          "execution_count": 48
        }
      ]
    },
    {
      "cell_type": "code",
      "source": [
        "x_squeezed = x_reshaped.unsqueeze(dim=0)\n",
        "x_squeezed, x_squeezed.shape"
      ],
      "metadata": {
        "colab": {
          "base_uri": "https://localhost:8080/"
        },
        "id": "t8rZqWNmuUYG",
        "outputId": "78c58129-22b1-4344-e788-38c60687807a"
      },
      "execution_count": 49,
      "outputs": [
        {
          "output_type": "execute_result",
          "data": {
            "text/plain": [
              "(tensor([[[1],\n",
              "          [2],\n",
              "          [3],\n",
              "          [4],\n",
              "          [5],\n",
              "          [6]]]),\n",
              " torch.Size([1, 6, 1]))"
            ]
          },
          "metadata": {},
          "execution_count": 49
        }
      ]
    },
    {
      "cell_type": "code",
      "source": [
        "# Tensor permute - returns view to a tensor with dimensions permuted\n",
        "\n",
        "og_image = torch.rand(size=(36, 36, 3)) # height, width, color channerls\n",
        "\n",
        "permuted_image = og_image.permute(2, 0, 1) # 0->2, 1->0, 2->1\n",
        "og_image.shape, permuted_image.shape"
      ],
      "metadata": {
        "colab": {
          "base_uri": "https://localhost:8080/"
        },
        "id": "VmDIxHH8MOxW",
        "outputId": "95af989d-6307-400e-dc05-4c9f7a5a23c3"
      },
      "execution_count": 50,
      "outputs": [
        {
          "output_type": "execute_result",
          "data": {
            "text/plain": [
              "(torch.Size([36, 36, 3]), torch.Size([3, 36, 36]))"
            ]
          },
          "metadata": {},
          "execution_count": 50
        }
      ]
    },
    {
      "cell_type": "markdown",
      "source": [
        "Indexing:\n",
        "\n",
        "Accessig elements using [] operator"
      ],
      "metadata": {
        "id": "Oa6ItBryNuPv"
      }
    },
    {
      "cell_type": "code",
      "source": [
        "x = torch.arange(1, 10).reshape(1, 3, 3)\n",
        "\n",
        "x"
      ],
      "metadata": {
        "colab": {
          "base_uri": "https://localhost:8080/"
        },
        "id": "vMH4t5WkNiwo",
        "outputId": "70082beb-25ad-4fa6-eac1-f0d741060080"
      },
      "execution_count": 51,
      "outputs": [
        {
          "output_type": "execute_result",
          "data": {
            "text/plain": [
              "tensor([[[1, 2, 3],\n",
              "         [4, 5, 6],\n",
              "         [7, 8, 9]]])"
            ]
          },
          "metadata": {},
          "execution_count": 51
        }
      ]
    },
    {
      "cell_type": "code",
      "source": [
        "x[0]"
      ],
      "metadata": {
        "colab": {
          "base_uri": "https://localhost:8080/"
        },
        "id": "FDIk4pB4OKty",
        "outputId": "deeaecef-02ca-45d6-fae5-94afc98cabc8"
      },
      "execution_count": 52,
      "outputs": [
        {
          "output_type": "execute_result",
          "data": {
            "text/plain": [
              "tensor([[1, 2, 3],\n",
              "        [4, 5, 6],\n",
              "        [7, 8, 9]])"
            ]
          },
          "metadata": {},
          "execution_count": 52
        }
      ]
    },
    {
      "cell_type": "code",
      "source": [
        "x[0][0], x[0][1], x[0][2]"
      ],
      "metadata": {
        "colab": {
          "base_uri": "https://localhost:8080/"
        },
        "id": "St26IMOTOWvJ",
        "outputId": "6efc9edb-1ea8-440e-fe35-7dde03f09043"
      },
      "execution_count": 53,
      "outputs": [
        {
          "output_type": "execute_result",
          "data": {
            "text/plain": [
              "(tensor([1, 2, 3]), tensor([4, 5, 6]), tensor([7, 8, 9]))"
            ]
          },
          "metadata": {},
          "execution_count": 53
        }
      ]
    },
    {
      "cell_type": "code",
      "source": [
        "x[0][0][0], x[0][0][1], x[0][0][2]"
      ],
      "metadata": {
        "colab": {
          "base_uri": "https://localhost:8080/"
        },
        "id": "yIFW4TY8OfNV",
        "outputId": "58a59603-0c03-4b8c-dc6b-25fd2b4c5279"
      },
      "execution_count": 54,
      "outputs": [
        {
          "output_type": "execute_result",
          "data": {
            "text/plain": [
              "(tensor(1), tensor(2), tensor(3))"
            ]
          },
          "metadata": {},
          "execution_count": 54
        }
      ]
    },
    {
      "cell_type": "code",
      "source": [
        "for i in range(0, 1):\n",
        "  for j in range(0, 3):\n",
        "    for k in range(0, 3):\n",
        "      print(int(x[i][j][k]), \" \", end='')\n",
        "    print()\n",
        "  print()"
      ],
      "metadata": {
        "colab": {
          "base_uri": "https://localhost:8080/"
        },
        "id": "CuMQX9gtOo0N",
        "outputId": "1cac076e-831f-4104-d363-a719fc90c9cf"
      },
      "execution_count": 55,
      "outputs": [
        {
          "output_type": "stream",
          "name": "stdout",
          "text": [
            "1  2  3  \n",
            "4  5  6  \n",
            "7  8  9  \n",
            "\n"
          ]
        }
      ]
    },
    {
      "cell_type": "code",
      "source": [
        "# slicing - indexing using colon(:)\n",
        "# : to select all elements in a dimension\n",
        "\n",
        "x[0, :], x[:, :, :]"
      ],
      "metadata": {
        "colab": {
          "base_uri": "https://localhost:8080/"
        },
        "id": "aeBV30CVPMzT",
        "outputId": "c85660f1-aa40-4fa5-bbfb-a7c5d883fc85"
      },
      "execution_count": 56,
      "outputs": [
        {
          "output_type": "execute_result",
          "data": {
            "text/plain": [
              "(tensor([[1, 2, 3],\n",
              "         [4, 5, 6],\n",
              "         [7, 8, 9]]),\n",
              " tensor([[[1, 2, 3],\n",
              "          [4, 5, 6],\n",
              "          [7, 8, 9]]]))"
            ]
          },
          "metadata": {},
          "execution_count": 56
        }
      ]
    },
    {
      "cell_type": "code",
      "source": [
        "x[0, 0, :], x[0, 1, :], x[0, 2, :]"
      ],
      "metadata": {
        "colab": {
          "base_uri": "https://localhost:8080/"
        },
        "id": "17wAWV8BPsSv",
        "outputId": "4002cf2e-e9f6-42f4-f274-8a075cc9bdbe"
      },
      "execution_count": 57,
      "outputs": [
        {
          "output_type": "execute_result",
          "data": {
            "text/plain": [
              "(tensor([1, 2, 3]), tensor([4, 5, 6]), tensor([7, 8, 9]))"
            ]
          },
          "metadata": {},
          "execution_count": 57
        }
      ]
    },
    {
      "cell_type": "code",
      "source": [
        "x[0, :, 0], x[0, :, 1], x[0, :, 2]"
      ],
      "metadata": {
        "colab": {
          "base_uri": "https://localhost:8080/"
        },
        "id": "FkKhtyCqP2Im",
        "outputId": "65b4eb31-dd55-4f97-f1f4-eb3f2917e08f"
      },
      "execution_count": 58,
      "outputs": [
        {
          "output_type": "execute_result",
          "data": {
            "text/plain": [
              "(tensor([1, 4, 7]), tensor([2, 5, 8]), tensor([3, 6, 9]))"
            ]
          },
          "metadata": {},
          "execution_count": 58
        }
      ]
    },
    {
      "cell_type": "code",
      "source": [
        "x[:, :, 0], x[:, :, 1], x[:, :, 2]"
      ],
      "metadata": {
        "colab": {
          "base_uri": "https://localhost:8080/"
        },
        "id": "iCYz1M2HQjYe",
        "outputId": "1996246a-8ad7-45b2-ee71-125b1a56a785"
      },
      "execution_count": 59,
      "outputs": [
        {
          "output_type": "execute_result",
          "data": {
            "text/plain": [
              "(tensor([[1, 4, 7]]), tensor([[2, 5, 8]]), tensor([[3, 6, 9]]))"
            ]
          },
          "metadata": {},
          "execution_count": 59
        }
      ]
    },
    {
      "cell_type": "code",
      "source": [
        "for i in range(0, 3):\n",
        "  for j in range(0, 3):\n",
        "    print(int(x[:, i, j]), \" \", end='')\n",
        "  print()"
      ],
      "metadata": {
        "colab": {
          "base_uri": "https://localhost:8080/"
        },
        "id": "jtHly8_bQJpx",
        "outputId": "d083d3fd-59e1-4052-b5f7-07f276190006"
      },
      "execution_count": 60,
      "outputs": [
        {
          "output_type": "stream",
          "name": "stdout",
          "text": [
            "1  2  3  \n",
            "4  5  6  \n",
            "7  8  9  \n"
          ]
        }
      ]
    },
    {
      "cell_type": "code",
      "source": [
        "# return 3, 4, and 9 from x\n",
        "\n",
        "int(x[:, 0, 2 ]), int(x[:, 1, 0 ]), int(x[:, 2, 2 ])"
      ],
      "metadata": {
        "colab": {
          "base_uri": "https://localhost:8080/"
        },
        "id": "x5h3UhQcQ5-O",
        "outputId": "c6f5ad29-d549-4268-e553-4a63aec2a8f8"
      },
      "execution_count": 61,
      "outputs": [
        {
          "output_type": "execute_result",
          "data": {
            "text/plain": [
              "(3, 4, 9)"
            ]
          },
          "metadata": {},
          "execution_count": 61
        }
      ]
    },
    {
      "cell_type": "markdown",
      "source": [
        "###NumPy - Python Numerical Computing Library - Scientific\n",
        "\n",
        "Interact Pytorch with NumPy\n",
        "\n",
        "- NumPy data to PyTorch: `torch.from_numpy(ndarray)`\n",
        "\n",
        "- PyTorch data to numpy: `torch.Tensor.numpy()`\n",
        "\n",
        "- data type for pytorch data will same as numpy data, vice versa\n",
        "\n",
        "- memory is not shared like in views"
      ],
      "metadata": {
        "id": "JPwUnqtfR4tE"
      }
    },
    {
      "cell_type": "code",
      "source": [
        "# import numpy\n",
        "import numpy as np\n",
        "\n",
        "# numpy to tensor\n",
        "\n",
        "array = np.arange(1, 9, 2)\n",
        "tensor = torch.from_numpy(array)\n",
        "array, tensor, array.dtype, tensor.dtype,"
      ],
      "metadata": {
        "colab": {
          "base_uri": "https://localhost:8080/"
        },
        "id": "h_2_g1alR3wH",
        "outputId": "50914be0-d64f-48b4-896b-ac6330026b27"
      },
      "execution_count": 62,
      "outputs": [
        {
          "output_type": "execute_result",
          "data": {
            "text/plain": [
              "(array([1, 3, 5, 7]), tensor([1, 3, 5, 7]), dtype('int64'), torch.int64)"
            ]
          },
          "metadata": {},
          "execution_count": 62
        }
      ]
    },
    {
      "cell_type": "code",
      "source": [
        "array = array + 1\n",
        "array, tensor"
      ],
      "metadata": {
        "colab": {
          "base_uri": "https://localhost:8080/"
        },
        "id": "tUFSDamJT0C3",
        "outputId": "e4f7095e-b0b5-459b-8ff8-33ac5959c732"
      },
      "execution_count": 63,
      "outputs": [
        {
          "output_type": "execute_result",
          "data": {
            "text/plain": [
              "(array([2, 4, 6, 8]), tensor([1, 3, 5, 7]))"
            ]
          },
          "metadata": {},
          "execution_count": 63
        }
      ]
    },
    {
      "cell_type": "code",
      "source": [
        "# tensor to numpy\n",
        "\n",
        "tensor = torch.tensor([2, 4, 6, 8])\n",
        "array = torch.Tensor.numpy(tensor)\n",
        "\n",
        "array, tensor, array.dtype, tensor.dtype,"
      ],
      "metadata": {
        "colab": {
          "base_uri": "https://localhost:8080/"
        },
        "id": "Q4ziXSzaUFzd",
        "outputId": "16767741-c806-47c1-a22f-079ed9852445"
      },
      "execution_count": 64,
      "outputs": [
        {
          "output_type": "execute_result",
          "data": {
            "text/plain": [
              "(array([2, 4, 6, 8]), tensor([2, 4, 6, 8]), dtype('int64'), torch.int64)"
            ]
          },
          "metadata": {},
          "execution_count": 64
        }
      ]
    },
    {
      "cell_type": "code",
      "source": [
        "tensor = tensor + 1\n",
        "array, tensor"
      ],
      "metadata": {
        "colab": {
          "base_uri": "https://localhost:8080/"
        },
        "id": "T9d6qAapUzuh",
        "outputId": "0c2647f4-193e-48b9-87f2-eaa97542b460"
      },
      "execution_count": 65,
      "outputs": [
        {
          "output_type": "execute_result",
          "data": {
            "text/plain": [
              "(array([2, 4, 6, 8]), tensor([3, 5, 7, 9]))"
            ]
          },
          "metadata": {},
          "execution_count": 65
        }
      ]
    },
    {
      "cell_type": "markdown",
      "source": [
        "### How neural network learns:\n",
        "- start with some randomly guessed values\n",
        "- perform some operations on them\n",
        "  - make them more accurate\n",
        "- update guessed values with newly predicted values\n",
        "- repeat from start\n",
        "\n",
        "*Reduce the randomness of values to be more accurate* - pytorch **random seed** concept\n",
        "\n",
        "Reproducibility: prepare random( more accurate than base random ) values over randoms ( base values )\n",
        "  - it refers to reproducing same kind of random value from a set of data\n",
        "  - pytorch provides mechanism to add 'flavour' of one random to another which is created from it\n",
        "  - new generated values may not be all equal\n",
        "\n",
        "*if we use only random generator function every time to generate new set of value, everytime we will get a new set of value, less chance of similarity - which is a huge loss to for the neural network as it takes a lot of time to generate a specific state(dataset) if we lost it - reproducing that will take much more time - this is where random seed comes into the picture*\n",
        "\n",
        "Random Seed:\n",
        "\n",
        "- it is a numerical value which is used to initialize a pseudorandom number generator\n",
        "\n",
        "- if a set of random values generated with a random seed X then we can generate similar( not necessarily equal but with similar flavour or distribution ) dataset with the same X.\n",
        "\n",
        "- this helps to reproduces a state of neural network next time efficiently\n"
      ],
      "metadata": {
        "id": "dmCaHyNKU7Vw"
      }
    },
    {
      "cell_type": "code",
      "source": [
        "random_set_a = torch.rand(3, 3)\n",
        "random_set_b = torch.rand(3, 3)\n",
        "\n",
        "random_set_a, random_set_b, random_set_a == random_set_b"
      ],
      "metadata": {
        "colab": {
          "base_uri": "https://localhost:8080/"
        },
        "id": "VBtauAWWV5lp",
        "outputId": "c4352714-197a-497c-ede5-f67e5d522ddb"
      },
      "execution_count": 66,
      "outputs": [
        {
          "output_type": "execute_result",
          "data": {
            "text/plain": [
              "(tensor([[0.1197, 0.0746, 0.9430],\n",
              "         [0.5073, 0.5275, 0.5210],\n",
              "         [0.5839, 0.8367, 0.5761]]),\n",
              " tensor([[0.4361, 0.1932, 0.8122],\n",
              "         [0.6163, 0.2188, 0.1027],\n",
              "         [0.2266, 0.4766, 0.5087]]),\n",
              " tensor([[False, False, False],\n",
              "         [False, False, False],\n",
              "         [False, False, False]]))"
            ]
          },
          "metadata": {},
          "execution_count": 66
        }
      ]
    },
    {
      "cell_type": "code",
      "source": [
        "# defining a random seed\n",
        "RANDOM_SEED = 50\n",
        "\n",
        "# set this random seed\n",
        "torch.manual_seed(RANDOM_SEED)\n",
        "\n",
        "# generating first state(tensor)\n",
        "first_state = torch.rand(2, 3)\n",
        "\n",
        "# enforcing reproducibility\n",
        "torch.manual_seed(RANDOM_SEED)\n",
        "\n",
        "# generating second state(tensor) with same flavour of previous\n",
        "second_state = torch.rand(2, 3)\n",
        "\n",
        "print(f\"First State: {first_state}\")\n",
        "print()\n",
        "print(f\"Second State: {second_state}\")\n",
        "print()\n",
        "print(f\"Comparing State: {first_state == second_state}\")"
      ],
      "metadata": {
        "colab": {
          "base_uri": "https://localhost:8080/"
        },
        "id": "eAZszp8SavId",
        "outputId": "8b419d15-063d-44a8-fb66-084113027edf"
      },
      "execution_count": 67,
      "outputs": [
        {
          "output_type": "stream",
          "name": "stdout",
          "text": [
            "First State: tensor([[0.6180, 0.0687, 0.3893],\n",
            "        [0.0404, 0.4013, 0.1442]])\n",
            "\n",
            "Second State: tensor([[0.6180, 0.0687, 0.3893],\n",
            "        [0.0404, 0.4013, 0.1442]])\n",
            "\n",
            "Comparing State: tensor([[True, True, True],\n",
            "        [True, True, True]])\n"
          ]
        }
      ]
    },
    {
      "cell_type": "markdown",
      "source": [
        "### Choosing GPU over CPU\n",
        "\n",
        "- GPU provides faster computation over CPU\n",
        "\n",
        "- we can tensors or models on GPU to make it faster processing\n",
        "\n",
        "- PyTorch can utilize both CPU and GPU\n",
        "\n",
        "Agnostic Code: check whether system has gpu or not, if not set up gpu else cpu\n",
        "\n",
        "some code only uses CPU e.g. NumPy\n"
      ],
      "metadata": {
        "id": "7ccLz-rCBeGs"
      }
    },
    {
      "cell_type": "code",
      "source": [
        "import torch\n",
        "\n",
        "torch.cuda.is_available()"
      ],
      "metadata": {
        "colab": {
          "base_uri": "https://localhost:8080/"
        },
        "id": "KdOZDoKL_whO",
        "outputId": "0241301e-9cff-45bf-d5f6-1059ab8cae45"
      },
      "execution_count": 68,
      "outputs": [
        {
          "output_type": "execute_result",
          "data": {
            "text/plain": [
              "True"
            ]
          },
          "metadata": {},
          "execution_count": 68
        }
      ]
    },
    {
      "cell_type": "code",
      "source": [
        "# Agnostic Code\n",
        "\n",
        "device = 'cpu'\n",
        "if torch.cuda.is_available():\n",
        "  device = 'cuda'\n",
        "device\n",
        "torch.cuda.device_count()"
      ],
      "metadata": {
        "colab": {
          "base_uri": "https://localhost:8080/"
        },
        "id": "9BHMhC8gB0t0",
        "outputId": "734148ad-f675-408f-91e9-4928c999e075"
      },
      "execution_count": 71,
      "outputs": [
        {
          "output_type": "execute_result",
          "data": {
            "text/plain": [
              "1"
            ]
          },
          "metadata": {},
          "execution_count": 71
        }
      ]
    },
    {
      "cell_type": "code",
      "source": [
        "# create a tensor( by default runs on CPU )\n",
        "tensor = torch.tensor([1, 2, 3])\n",
        "\n",
        "tensor, tensor.device"
      ],
      "metadata": {
        "colab": {
          "base_uri": "https://localhost:8080/"
        },
        "id": "SguwKFX5C9V-",
        "outputId": "9f2ae12f-ec95-44e1-bc7a-dd2a35053911"
      },
      "execution_count": 72,
      "outputs": [
        {
          "output_type": "execute_result",
          "data": {
            "text/plain": [
              "(tensor([1, 2, 3]), device(type='cpu'))"
            ]
          },
          "metadata": {},
          "execution_count": 72
        }
      ]
    },
    {
      "cell_type": "code",
      "source": [
        "# move tensor from CPU to GPU\n",
        "tensor_on_gpu = tensor.to(device)\n",
        "tensor_on_gpu"
      ],
      "metadata": {
        "colab": {
          "base_uri": "https://localhost:8080/"
        },
        "id": "_zIir4MrDgu0",
        "outputId": "cf6b4604-2a26-4564-f8c8-5e2b9bdedc97"
      },
      "execution_count": 74,
      "outputs": [
        {
          "output_type": "execute_result",
          "data": {
            "text/plain": [
              "tensor([1, 2, 3], device='cuda:0')"
            ]
          },
          "metadata": {},
          "execution_count": 74
        }
      ]
    },
    {
      "cell_type": "code",
      "source": [
        "# if tensor is on GPU, then it can not use numpy\n",
        "# torch.Tensor.numpy(tensor_on_gpu)\n",
        "\n",
        "# move tensor from GPU to CPU\n",
        "tensor_on_cpu = tensor_on_gpu.cpu()\n",
        "tensor_on_cpu, tensor_on_cpu.device\n",
        "tensor_on_cpu.numpy()"
      ],
      "metadata": {
        "colab": {
          "base_uri": "https://localhost:8080/"
        },
        "id": "SDSL0w-dEI4c",
        "outputId": "325ffea0-e056-4fed-9881-025cb17d078a"
      },
      "execution_count": 78,
      "outputs": [
        {
          "output_type": "execute_result",
          "data": {
            "text/plain": [
              "array([1, 2, 3])"
            ]
          },
          "metadata": {},
          "execution_count": 78
        }
      ]
    }
  ]
}